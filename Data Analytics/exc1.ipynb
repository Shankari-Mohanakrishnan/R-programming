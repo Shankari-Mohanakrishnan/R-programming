{
 "cells": [
  {
   "cell_type": "code",
   "execution_count": 6,
   "metadata": {},
   "outputs": [
    {
     "data": {
      "text/html": [
       "<table>\n",
       "<thead><tr><th scope=col>X...y</th><th scope=col>x1</th><th scope=col>x2</th><th scope=col>x3</th><th scope=col>x4</th><th scope=col>x5</th><th scope=col>x6</th><th scope=col>x7</th><th scope=col>x8</th><th scope=col>x9</th></tr></thead>\n",
       "<tbody>\n",
       "\t<tr><td>10  </td><td>2113</td><td>1985</td><td>38.9</td><td>64.7</td><td>  4 </td><td> 868</td><td>59.7</td><td>2205</td><td>1917</td></tr>\n",
       "\t<tr><td>11  </td><td>2003</td><td>2855</td><td>38.8</td><td>61.3</td><td>  3 </td><td> 615</td><td>55.0</td><td>2096</td><td>1575</td></tr>\n",
       "\t<tr><td>11  </td><td>2957</td><td>1737</td><td>40.1</td><td>60.0</td><td> 14 </td><td> 914</td><td>65.6</td><td>1847</td><td>2175</td></tr>\n",
       "\t<tr><td>13  </td><td>2285</td><td>2905</td><td>41.6</td><td>45.3</td><td> -4 </td><td> 957</td><td>61.4</td><td>1903</td><td>2476</td></tr>\n",
       "\t<tr><td>10  </td><td>2971</td><td>1666</td><td>39.2</td><td>53.8</td><td> 15 </td><td> 836</td><td>66.1</td><td>1457</td><td>1866</td></tr>\n",
       "\t<tr><td>11  </td><td>2309</td><td>2927</td><td>39.7</td><td>74.1</td><td>  8 </td><td> 786</td><td>61.0</td><td>1848</td><td>2339</td></tr>\n",
       "\t<tr><td>10  </td><td>2528</td><td>2341</td><td>38.1</td><td>65.4</td><td> 12 </td><td> 754</td><td>66.1</td><td>1564</td><td>2092</td></tr>\n",
       "\t<tr><td>11  </td><td>2147</td><td>2737</td><td>37.0</td><td>78.3</td><td> -1 </td><td> 761</td><td>58.0</td><td>1821</td><td>1909</td></tr>\n",
       "\t<tr><td> 4  </td><td>1689</td><td>1414</td><td>42.1</td><td>47.6</td><td> -3 </td><td> 714</td><td>57.0</td><td>2577</td><td>2001</td></tr>\n",
       "\t<tr><td> 2  </td><td>2566</td><td>1838</td><td>42.3</td><td>54.2</td><td> -1 </td><td> 797</td><td>58.9</td><td>2476</td><td>2254</td></tr>\n",
       "\t<tr><td> 7  </td><td>2363</td><td>1480</td><td>37.3</td><td>48.0</td><td> 19 </td><td> 984</td><td>67.5</td><td>1984</td><td>2217</td></tr>\n",
       "\t<tr><td>10  </td><td>2109</td><td>2191</td><td>39.5</td><td>51.9</td><td>  6 </td><td> 700</td><td>57.2</td><td>1917</td><td>1758</td></tr>\n",
       "\t<tr><td> 9  </td><td>2295</td><td>2229</td><td>37.4</td><td>53.6</td><td> -5 </td><td>1037</td><td>58.8</td><td>1761</td><td>2032</td></tr>\n",
       "\t<tr><td> 9  </td><td>1932</td><td>2204</td><td>35.1</td><td>71.4</td><td>  3 </td><td> 986</td><td>58.6</td><td>1709</td><td>2025</td></tr>\n",
       "\t<tr><td> 6  </td><td>2213</td><td>2140</td><td>38.8</td><td>58.3</td><td>  6 </td><td> 819</td><td>59.2</td><td>1901</td><td>1686</td></tr>\n",
       "\t<tr><td> 5  </td><td>1722</td><td>1730</td><td>36.6</td><td>52.6</td><td>-19 </td><td> 791</td><td>54.4</td><td>2288</td><td>1835</td></tr>\n",
       "\t<tr><td> 5  </td><td>1498</td><td>2072</td><td>35.3</td><td>59.3</td><td> -5 </td><td> 776</td><td>49.6</td><td>2072</td><td>1914</td></tr>\n",
       "\t<tr><td> 5  </td><td>1873</td><td>2929</td><td>41.1</td><td>55.3</td><td> 10 </td><td> 789</td><td>54.3</td><td>2861</td><td>2496</td></tr>\n",
       "\t<tr><td> 6  </td><td>2118</td><td>2268</td><td>38.2</td><td>69.6</td><td>  6 </td><td> 582</td><td>58.7</td><td>2411</td><td>2670</td></tr>\n",
       "\t<tr><td> 4  </td><td>1775</td><td>1983</td><td>39.3</td><td>78.3</td><td>  7 </td><td> 901</td><td>51.7</td><td>2289</td><td>2202</td></tr>\n",
       "\t<tr><td> 3  </td><td>1904</td><td>1792</td><td>39.7</td><td>38.1</td><td> -9 </td><td> 734</td><td>61.9</td><td>2203</td><td>1988</td></tr>\n",
       "\t<tr><td> 3  </td><td>1929</td><td>1606</td><td>39.7</td><td>68.8</td><td>-21 </td><td> 627</td><td>52.7</td><td>2592</td><td>2324</td></tr>\n",
       "\t<tr><td> 4  </td><td>2080</td><td>1492</td><td>35.5</td><td>68.8</td><td> -8 </td><td> 722</td><td>57.8</td><td>2053</td><td>2550</td></tr>\n",
       "\t<tr><td>10  </td><td>2301</td><td>2835</td><td>35.3</td><td>74.1</td><td>  2 </td><td> 683</td><td>59.7</td><td>1979</td><td>2110</td></tr>\n",
       "\t<tr><td> 6  </td><td>2040</td><td>2416</td><td>38.7</td><td>50.0</td><td>  0 </td><td> 576</td><td>54.9</td><td>2048</td><td>2628</td></tr>\n",
       "\t<tr><td> 8  </td><td>2447</td><td>1638</td><td>39.9</td><td>57.1</td><td> -8 </td><td> 848</td><td>65.3</td><td>1786</td><td>1776</td></tr>\n",
       "\t<tr><td> 2  </td><td>1416</td><td>2649</td><td>37.4</td><td>56.3</td><td>-22 </td><td> 684</td><td>43.8</td><td>2876</td><td>2524</td></tr>\n",
       "\t<tr><td> 0  </td><td>1503</td><td>1503</td><td>39.3</td><td>47.0</td><td> -9 </td><td> 875</td><td>53.5</td><td>2560</td><td>2241</td></tr>\n",
       "</tbody>\n",
       "</table>\n"
      ],
      "text/latex": [
       "\\begin{tabular}{r|llllllllll}\n",
       " X...y & x1 & x2 & x3 & x4 & x5 & x6 & x7 & x8 & x9\\\\\n",
       "\\hline\n",
       "\t 10   & 2113 & 1985 & 38.9 & 64.7 &   4  &  868 & 59.7 & 2205 & 1917\\\\\n",
       "\t 11   & 2003 & 2855 & 38.8 & 61.3 &   3  &  615 & 55.0 & 2096 & 1575\\\\\n",
       "\t 11   & 2957 & 1737 & 40.1 & 60.0 &  14  &  914 & 65.6 & 1847 & 2175\\\\\n",
       "\t 13   & 2285 & 2905 & 41.6 & 45.3 &  -4  &  957 & 61.4 & 1903 & 2476\\\\\n",
       "\t 10   & 2971 & 1666 & 39.2 & 53.8 &  15  &  836 & 66.1 & 1457 & 1866\\\\\n",
       "\t 11   & 2309 & 2927 & 39.7 & 74.1 &   8  &  786 & 61.0 & 1848 & 2339\\\\\n",
       "\t 10   & 2528 & 2341 & 38.1 & 65.4 &  12  &  754 & 66.1 & 1564 & 2092\\\\\n",
       "\t 11   & 2147 & 2737 & 37.0 & 78.3 &  -1  &  761 & 58.0 & 1821 & 1909\\\\\n",
       "\t  4   & 1689 & 1414 & 42.1 & 47.6 &  -3  &  714 & 57.0 & 2577 & 2001\\\\\n",
       "\t  2   & 2566 & 1838 & 42.3 & 54.2 &  -1  &  797 & 58.9 & 2476 & 2254\\\\\n",
       "\t  7   & 2363 & 1480 & 37.3 & 48.0 &  19  &  984 & 67.5 & 1984 & 2217\\\\\n",
       "\t 10   & 2109 & 2191 & 39.5 & 51.9 &   6  &  700 & 57.2 & 1917 & 1758\\\\\n",
       "\t  9   & 2295 & 2229 & 37.4 & 53.6 &  -5  & 1037 & 58.8 & 1761 & 2032\\\\\n",
       "\t  9   & 1932 & 2204 & 35.1 & 71.4 &   3  &  986 & 58.6 & 1709 & 2025\\\\\n",
       "\t  6   & 2213 & 2140 & 38.8 & 58.3 &   6  &  819 & 59.2 & 1901 & 1686\\\\\n",
       "\t  5   & 1722 & 1730 & 36.6 & 52.6 & -19  &  791 & 54.4 & 2288 & 1835\\\\\n",
       "\t  5   & 1498 & 2072 & 35.3 & 59.3 &  -5  &  776 & 49.6 & 2072 & 1914\\\\\n",
       "\t  5   & 1873 & 2929 & 41.1 & 55.3 &  10  &  789 & 54.3 & 2861 & 2496\\\\\n",
       "\t  6   & 2118 & 2268 & 38.2 & 69.6 &   6  &  582 & 58.7 & 2411 & 2670\\\\\n",
       "\t  4   & 1775 & 1983 & 39.3 & 78.3 &   7  &  901 & 51.7 & 2289 & 2202\\\\\n",
       "\t  3   & 1904 & 1792 & 39.7 & 38.1 &  -9  &  734 & 61.9 & 2203 & 1988\\\\\n",
       "\t  3   & 1929 & 1606 & 39.7 & 68.8 & -21  &  627 & 52.7 & 2592 & 2324\\\\\n",
       "\t  4   & 2080 & 1492 & 35.5 & 68.8 &  -8  &  722 & 57.8 & 2053 & 2550\\\\\n",
       "\t 10   & 2301 & 2835 & 35.3 & 74.1 &   2  &  683 & 59.7 & 1979 & 2110\\\\\n",
       "\t  6   & 2040 & 2416 & 38.7 & 50.0 &   0  &  576 & 54.9 & 2048 & 2628\\\\\n",
       "\t  8   & 2447 & 1638 & 39.9 & 57.1 &  -8  &  848 & 65.3 & 1786 & 1776\\\\\n",
       "\t  2   & 1416 & 2649 & 37.4 & 56.3 & -22  &  684 & 43.8 & 2876 & 2524\\\\\n",
       "\t  0   & 1503 & 1503 & 39.3 & 47.0 &  -9  &  875 & 53.5 & 2560 & 2241\\\\\n",
       "\\end{tabular}\n"
      ],
      "text/markdown": [
       "\n",
       "X...y | x1 | x2 | x3 | x4 | x5 | x6 | x7 | x8 | x9 | \n",
       "|---|---|---|---|---|---|---|---|---|---|---|---|---|---|---|---|---|---|---|---|---|---|---|---|---|---|---|---|\n",
       "| 10   | 2113 | 1985 | 38.9 | 64.7 |   4  |  868 | 59.7 | 2205 | 1917 | \n",
       "| 11   | 2003 | 2855 | 38.8 | 61.3 |   3  |  615 | 55.0 | 2096 | 1575 | \n",
       "| 11   | 2957 | 1737 | 40.1 | 60.0 |  14  |  914 | 65.6 | 1847 | 2175 | \n",
       "| 13   | 2285 | 2905 | 41.6 | 45.3 |  -4  |  957 | 61.4 | 1903 | 2476 | \n",
       "| 10   | 2971 | 1666 | 39.2 | 53.8 |  15  |  836 | 66.1 | 1457 | 1866 | \n",
       "| 11   | 2309 | 2927 | 39.7 | 74.1 |   8  |  786 | 61.0 | 1848 | 2339 | \n",
       "| 10   | 2528 | 2341 | 38.1 | 65.4 |  12  |  754 | 66.1 | 1564 | 2092 | \n",
       "| 11   | 2147 | 2737 | 37.0 | 78.3 |  -1  |  761 | 58.0 | 1821 | 1909 | \n",
       "|  4   | 1689 | 1414 | 42.1 | 47.6 |  -3  |  714 | 57.0 | 2577 | 2001 | \n",
       "|  2   | 2566 | 1838 | 42.3 | 54.2 |  -1  |  797 | 58.9 | 2476 | 2254 | \n",
       "|  7   | 2363 | 1480 | 37.3 | 48.0 |  19  |  984 | 67.5 | 1984 | 2217 | \n",
       "| 10   | 2109 | 2191 | 39.5 | 51.9 |   6  |  700 | 57.2 | 1917 | 1758 | \n",
       "|  9   | 2295 | 2229 | 37.4 | 53.6 |  -5  | 1037 | 58.8 | 1761 | 2032 | \n",
       "|  9   | 1932 | 2204 | 35.1 | 71.4 |   3  |  986 | 58.6 | 1709 | 2025 | \n",
       "|  6   | 2213 | 2140 | 38.8 | 58.3 |   6  |  819 | 59.2 | 1901 | 1686 | \n",
       "|  5   | 1722 | 1730 | 36.6 | 52.6 | -19  |  791 | 54.4 | 2288 | 1835 | \n",
       "|  5   | 1498 | 2072 | 35.3 | 59.3 |  -5  |  776 | 49.6 | 2072 | 1914 | \n",
       "|  5   | 1873 | 2929 | 41.1 | 55.3 |  10  |  789 | 54.3 | 2861 | 2496 | \n",
       "|  6   | 2118 | 2268 | 38.2 | 69.6 |   6  |  582 | 58.7 | 2411 | 2670 | \n",
       "|  4   | 1775 | 1983 | 39.3 | 78.3 |   7  |  901 | 51.7 | 2289 | 2202 | \n",
       "|  3   | 1904 | 1792 | 39.7 | 38.1 |  -9  |  734 | 61.9 | 2203 | 1988 | \n",
       "|  3   | 1929 | 1606 | 39.7 | 68.8 | -21  |  627 | 52.7 | 2592 | 2324 | \n",
       "|  4   | 2080 | 1492 | 35.5 | 68.8 |  -8  |  722 | 57.8 | 2053 | 2550 | \n",
       "| 10   | 2301 | 2835 | 35.3 | 74.1 |   2  |  683 | 59.7 | 1979 | 2110 | \n",
       "|  6   | 2040 | 2416 | 38.7 | 50.0 |   0  |  576 | 54.9 | 2048 | 2628 | \n",
       "|  8   | 2447 | 1638 | 39.9 | 57.1 |  -8  |  848 | 65.3 | 1786 | 1776 | \n",
       "|  2   | 1416 | 2649 | 37.4 | 56.3 | -22  |  684 | 43.8 | 2876 | 2524 | \n",
       "|  0   | 1503 | 1503 | 39.3 | 47.0 |  -9  |  875 | 53.5 | 2560 | 2241 | \n",
       "\n",
       "\n"
      ],
      "text/plain": [
       "   X...y x1   x2   x3   x4   x5  x6   x7   x8   x9  \n",
       "1  10    2113 1985 38.9 64.7   4  868 59.7 2205 1917\n",
       "2  11    2003 2855 38.8 61.3   3  615 55.0 2096 1575\n",
       "3  11    2957 1737 40.1 60.0  14  914 65.6 1847 2175\n",
       "4  13    2285 2905 41.6 45.3  -4  957 61.4 1903 2476\n",
       "5  10    2971 1666 39.2 53.8  15  836 66.1 1457 1866\n",
       "6  11    2309 2927 39.7 74.1   8  786 61.0 1848 2339\n",
       "7  10    2528 2341 38.1 65.4  12  754 66.1 1564 2092\n",
       "8  11    2147 2737 37.0 78.3  -1  761 58.0 1821 1909\n",
       "9   4    1689 1414 42.1 47.6  -3  714 57.0 2577 2001\n",
       "10  2    2566 1838 42.3 54.2  -1  797 58.9 2476 2254\n",
       "11  7    2363 1480 37.3 48.0  19  984 67.5 1984 2217\n",
       "12 10    2109 2191 39.5 51.9   6  700 57.2 1917 1758\n",
       "13  9    2295 2229 37.4 53.6  -5 1037 58.8 1761 2032\n",
       "14  9    1932 2204 35.1 71.4   3  986 58.6 1709 2025\n",
       "15  6    2213 2140 38.8 58.3   6  819 59.2 1901 1686\n",
       "16  5    1722 1730 36.6 52.6 -19  791 54.4 2288 1835\n",
       "17  5    1498 2072 35.3 59.3  -5  776 49.6 2072 1914\n",
       "18  5    1873 2929 41.1 55.3  10  789 54.3 2861 2496\n",
       "19  6    2118 2268 38.2 69.6   6  582 58.7 2411 2670\n",
       "20  4    1775 1983 39.3 78.3   7  901 51.7 2289 2202\n",
       "21  3    1904 1792 39.7 38.1  -9  734 61.9 2203 1988\n",
       "22  3    1929 1606 39.7 68.8 -21  627 52.7 2592 2324\n",
       "23  4    2080 1492 35.5 68.8  -8  722 57.8 2053 2550\n",
       "24 10    2301 2835 35.3 74.1   2  683 59.7 1979 2110\n",
       "25  6    2040 2416 38.7 50.0   0  576 54.9 2048 2628\n",
       "26  8    2447 1638 39.9 57.1  -8  848 65.3 1786 1776\n",
       "27  2    1416 2649 37.4 56.3 -22  684 43.8 2876 2524\n",
       "28  0    1503 1503 39.3 47.0  -9  875 53.5 2560 2241"
      ]
     },
     "metadata": {},
     "output_type": "display_data"
    }
   ],
   "source": [
    "m <- read.csv(\"nfl1.csv\", header =TRUE)\n",
    "m\n",
    "y <- m[,1]\n",
    "x1 <- m[,2]\n",
    "x2 <- m[,3]\n",
    "x4 <- m[,4]\n",
    "x5 <- m[,5]\n",
    "x6 <- m[,6]\n",
    "x7 <- m[,7]\n",
    "x8 <- m[,8]\n",
    "x9 <- m[,9]\n"
   ]
  },
  {
   "cell_type": "code",
   "execution_count": 7,
   "metadata": {
    "collapsed": true
   },
   "outputs": [],
   "source": [
    "m1 <- lm(y~., data = m)"
   ]
  },
  {
   "cell_type": "code",
   "execution_count": 14,
   "metadata": {},
   "outputs": [
    {
     "name": "stderr",
     "output_type": "stream",
     "text": [
      "Warning message in summary.lm(m1):\n",
      "\"essentially perfect fit: summary may be unreliable\""
     ]
    },
    {
     "data": {
      "text/plain": [
       "\n",
       "Call:\n",
       "lm(formula = y ~ ., data = m)\n",
       "\n",
       "Residuals:\n",
       "       Min         1Q     Median         3Q        Max \n",
       "-5.247e-16 -1.463e-16 -3.523e-17  1.432e-16  9.179e-16 \n",
       "\n",
       "Coefficients:\n",
       "              Estimate Std. Error    t value Pr(>|t|)    \n",
       "(Intercept)  0.000e+00  2.375e-15  0.000e+00    1.000    \n",
       "X...y        1.000e+00  4.330e-17  2.309e+16   <2e-16 ***\n",
       "x1           2.041e-19  3.703e-19  5.510e-01    0.589    \n",
       "x2           1.568e-19  2.204e-19  7.110e-01    0.487    \n",
       "x3           3.416e-17  4.787e-17  7.140e-01    0.485    \n",
       "x4          -9.452e-19  7.767e-18 -1.220e-01    0.905    \n",
       "x5          -2.280e-18  8.604e-18 -2.650e-01    0.794    \n",
       "x6          -2.408e-19  6.006e-19 -4.010e-01    0.693    \n",
       "x7          -2.243e-17  2.873e-17 -7.810e-01    0.446    \n",
       "x8          -1.224e-19  4.130e-19 -2.960e-01    0.770    \n",
       "x9          -1.781e-19  2.716e-19 -6.560e-01    0.521    \n",
       "---\n",
       "Signif. codes:  0 '***' 0.001 '**' 0.01 '*' 0.05 '.' 0.1 ' ' 1\n",
       "\n",
       "Residual standard error: 3.362e-16 on 17 degrees of freedom\n",
       "Multiple R-squared:      1,\tAdjusted R-squared:      1 \n",
       "F-statistic: 2.892e+32 on 10 and 17 DF,  p-value: < 2.2e-16\n"
      ]
     },
     "metadata": {},
     "output_type": "display_data"
    }
   ],
   "source": [
    "summary(m1)"
   ]
  },
  {
   "cell_type": "code",
   "execution_count": 17,
   "metadata": {
    "collapsed": true
   },
   "outputs": [],
   "source": [
    "# From the above results we can conclude that the model as whole is good as p value<0.05. \n",
    "# When we consider the individual parameter test the 5 variables that affect the model more are x1, x2, x3, x7 and x9. \n",
    "# building a multiple regression with these varibles\n",
    "m2 <- lm(y~x1+x2+x3+x7+x9, data = m)"
   ]
  },
  {
   "cell_type": "code",
   "execution_count": 18,
   "metadata": {},
   "outputs": [
    {
     "data": {
      "text/plain": [
       "\n",
       "Call:\n",
       "lm(formula = y ~ x1 + x2 + x3 + x7 + x9, data = m)\n",
       "\n",
       "Residuals:\n",
       "    Min      1Q  Median      3Q     Max \n",
       "-3.8327 -0.8576  0.3486  0.6182  3.3377 \n",
       "\n",
       "Coefficients:\n",
       "              Estimate Std. Error t value Pr(>|t|)    \n",
       "(Intercept) -5.8361321  9.3129917  -0.627   0.5373    \n",
       "x1           0.0026121  0.0017777   1.469   0.1559    \n",
       "x2           0.0041794  0.0007607   5.494 1.61e-05 ***\n",
       "x3          -0.2469454  0.1870193  -1.320   0.2003    \n",
       "x7           0.2514424  0.1297407   1.938   0.0656 .  \n",
       "x9          -0.0031409  0.0012570  -2.499   0.0204 *  \n",
       "---\n",
       "Signif. codes:  0 '***' 0.001 '**' 0.01 '*' 0.05 '.' 0.1 ' ' 1\n",
       "\n",
       "Residual standard error: 1.864 on 22 degrees of freedom\n",
       "Multiple R-squared:  0.7662,\tAdjusted R-squared:  0.713 \n",
       "F-statistic: 14.42 on 5 and 22 DF,  p-value: 2.565e-06\n"
      ]
     },
     "metadata": {},
     "output_type": "display_data"
    }
   ],
   "source": [
    "summary(m2)"
   ]
  },
  {
   "cell_type": "code",
   "execution_count": 19,
   "metadata": {
    "collapsed": true
   },
   "outputs": [],
   "source": [
    "# From this model we can conclude that the variables that are significant in the model are x2, x7 and x9. \n",
    "#Building model with these variables\n",
    "m3 <- lm(y~x2+x7+x9, data = m)"
   ]
  },
  {
   "cell_type": "code",
   "execution_count": 20,
   "metadata": {},
   "outputs": [
    {
     "data": {
      "text/plain": [
       "\n",
       "Call:\n",
       "lm(formula = y ~ x2 + x7 + x9, data = m)\n",
       "\n",
       "Residuals:\n",
       "    Min      1Q  Median      3Q     Max \n",
       "-4.3968 -0.7561  0.3362  1.1238  2.9743 \n",
       "\n",
       "Coefficients:\n",
       "              Estimate Std. Error t value Pr(>|t|)    \n",
       "(Intercept) -18.945482   5.708495  -3.319  0.00288 ** \n",
       "x2            0.004490   0.000759   5.915 4.20e-06 ***\n",
       "x7            0.398231   0.071020   5.607 9.02e-06 ***\n",
       "x9           -0.003196   0.001279  -2.498  0.01972 *  \n",
       "---\n",
       "Signif. codes:  0 '***' 0.001 '**' 0.01 '*' 0.05 '.' 0.1 ' ' 1\n",
       "\n",
       "Residual standard error: 1.918 on 24 degrees of freedom\n",
       "Multiple R-squared:  0.7299,\tAdjusted R-squared:  0.6962 \n",
       "F-statistic: 21.62 on 3 and 24 DF,  p-value: 5.256e-07\n"
      ]
     },
     "metadata": {},
     "output_type": "display_data"
    }
   ],
   "source": [
    "summary(m3)\n",
    "# According to partial F test p value =5.256e-07 <0.05. At 95% confidence level,we say that at least one\n",
    "# X variable has significant linear relationship with Y, and it can affect the value of the Y "
   ]
  },
  {
   "cell_type": "code",
   "execution_count": 21,
   "metadata": {},
   "outputs": [
    {
     "data": {
      "text/html": [
       "<table>\n",
       "<thead><tr><th></th><th scope=col>Df</th><th scope=col>Sum Sq</th><th scope=col>Mean Sq</th><th scope=col>F value</th><th scope=col>Pr(&gt;F)</th></tr></thead>\n",
       "<tbody>\n",
       "\t<tr><th scope=row>x2</th><td> 1          </td><td> 76.19340   </td><td> 76.193400  </td><td>20.708693   </td><td>1.301905e-04</td></tr>\n",
       "\t<tr><th scope=row>x7</th><td> 1          </td><td>139.50082   </td><td>139.500820  </td><td>37.915091   </td><td>2.316023e-06</td></tr>\n",
       "\t<tr><th scope=row>x9</th><td> 1          </td><td> 22.96698   </td><td> 22.966976  </td><td> 6.242221   </td><td>1.972237e-02</td></tr>\n",
       "\t<tr><th scope=row>Residuals</th><td>24          </td><td> 88.30309   </td><td>  3.679295  </td><td>       NA   </td><td>          NA</td></tr>\n",
       "</tbody>\n",
       "</table>\n"
      ],
      "text/latex": [
       "\\begin{tabular}{r|lllll}\n",
       "  & Df & Sum Sq & Mean Sq & F value & Pr(>F)\\\\\n",
       "\\hline\n",
       "\tx2 &  1           &  76.19340    &  76.193400   & 20.708693    & 1.301905e-04\\\\\n",
       "\tx7 &  1           & 139.50082    & 139.500820   & 37.915091    & 2.316023e-06\\\\\n",
       "\tx9 &  1           &  22.96698    &  22.966976   &  6.242221    & 1.972237e-02\\\\\n",
       "\tResiduals & 24           &  88.30309    &   3.679295   &        NA    &           NA\\\\\n",
       "\\end{tabular}\n"
      ],
      "text/markdown": [
       "\n",
       "| <!--/--> | Df | Sum Sq | Mean Sq | F value | Pr(>F) | \n",
       "|---|---|---|---|\n",
       "| x2 |  1           |  76.19340    |  76.193400   | 20.708693    | 1.301905e-04 | \n",
       "| x7 |  1           | 139.50082    | 139.500820   | 37.915091    | 2.316023e-06 | \n",
       "| x9 |  1           |  22.96698    |  22.966976   |  6.242221    | 1.972237e-02 | \n",
       "| Residuals | 24           |  88.30309    |   3.679295   |        NA    |           NA | \n",
       "\n",
       "\n"
      ],
      "text/plain": [
       "          Df Sum Sq    Mean Sq    F value   Pr(>F)      \n",
       "x2         1  76.19340  76.193400 20.708693 1.301905e-04\n",
       "x7         1 139.50082 139.500820 37.915091 2.316023e-06\n",
       "x9         1  22.96698  22.966976  6.242221 1.972237e-02\n",
       "Residuals 24  88.30309   3.679295        NA           NA"
      ]
     },
     "metadata": {},
     "output_type": "display_data"
    }
   ],
   "source": [
    "# In the above model p<0.05. So it passes the goodness of fit test too. The R squared value is also good.\n",
    "#So proceeding with the model\n",
    "# analysis of variance for these three variables\n",
    "anova(m3)"
   ]
  },
  {
   "cell_type": "code",
   "execution_count": 24,
   "metadata": {},
   "outputs": [
    {
     "data": {
      "text/plain": [
       "\n",
       "\tOne Sample t-test\n",
       "\n",
       "data:  x2\n",
       "t = 22.552, df = 27, p-value < 2.2e-16\n",
       "alternative hypothesis: true mean is not equal to 0\n",
       "95 percent confidence interval:\n",
       " 1933.677 2320.751\n",
       "sample estimates:\n",
       "mean of x \n",
       " 2127.214 \n"
      ]
     },
     "metadata": {},
     "output_type": "display_data"
    }
   ],
   "source": [
    "# In model m3 according to t-test all three varaibles x2, x7, x9 are significant in which x2 and x7 are more significant.\n",
    "# t-statistics - x2\n",
    "t.test(x2,alternative=\"two.sided\",conf.level=0.95)\n",
    "# p-value=2.2e-16 <0.05.So do not reject null hypothesis "
   ]
  },
  {
   "cell_type": "code",
   "execution_count": 26,
   "metadata": {},
   "outputs": [
    {
     "data": {
      "text/plain": [
       "\n",
       "\tOne Sample t-test\n",
       "\n",
       "data:  x7\n",
       "t = 34.115, df = 27, p-value < 2.2e-16\n",
       "alternative hypothesis: true mean is not equal to 0\n",
       "95 percent confidence interval:\n",
       " 742.3518 837.3625\n",
       "sample estimates:\n",
       "mean of x \n",
       " 789.8571 \n"
      ]
     },
     "metadata": {},
     "output_type": "display_data"
    }
   ],
   "source": [
    "# t-statistics - x7\n",
    "t.test(x7,alternative=\"two.sided\",conf.level=0.95)\n",
    "# p-value=2.2e-16 <0.05.So do not reject null hypothesis "
   ]
  },
  {
   "cell_type": "code",
   "execution_count": 27,
   "metadata": {},
   "outputs": [
    {
     "data": {
      "text/plain": [
       "\n",
       "\tOne Sample t-test\n",
       "\n",
       "data:  x9\n",
       "t = 30.542, df = 27, p-value < 2.2e-16\n",
       "alternative hypothesis: true mean is not equal to 0\n",
       "95 percent confidence interval:\n",
       " 1968.384 2251.902\n",
       "sample estimates:\n",
       "mean of x \n",
       " 2110.143 \n"
      ]
     },
     "metadata": {},
     "output_type": "display_data"
    }
   ],
   "source": [
    "# t-statistics - x9\n",
    "t.test(x9,alternative=\"two.sided\",conf.level=0.95)\n",
    "# p-value=2.2e-16 <0.05.So do not reject null hypothesis "
   ]
  },
  {
   "cell_type": "code",
   "execution_count": 28,
   "metadata": {},
   "outputs": [
    {
     "data": {
      "text/plain": [
       "\n",
       "Call:\n",
       "lm(formula = y ~ x2 + x7 + x9, data = m)\n",
       "\n",
       "Residuals:\n",
       "    Min      1Q  Median      3Q     Max \n",
       "-4.3968 -0.7561  0.3362  1.1238  2.9743 \n",
       "\n",
       "Coefficients:\n",
       "              Estimate Std. Error t value Pr(>|t|)    \n",
       "(Intercept) -18.945482   5.708495  -3.319  0.00288 ** \n",
       "x2            0.004490   0.000759   5.915 4.20e-06 ***\n",
       "x7            0.398231   0.071020   5.607 9.02e-06 ***\n",
       "x9           -0.003196   0.001279  -2.498  0.01972 *  \n",
       "---\n",
       "Signif. codes:  0 '***' 0.001 '**' 0.01 '*' 0.05 '.' 0.1 ' ' 1\n",
       "\n",
       "Residual standard error: 1.918 on 24 degrees of freedom\n",
       "Multiple R-squared:  0.7299,\tAdjusted R-squared:  0.6962 \n",
       "F-statistic: 21.62 on 3 and 24 DF,  p-value: 5.256e-07\n"
      ]
     },
     "metadata": {},
     "output_type": "display_data"
    }
   ],
   "source": [
    "summary(m3)\n",
    "#The summary clearly gives us that R-sqare = 0.6962"
   ]
  },
  {
   "cell_type": "code",
   "execution_count": 30,
   "metadata": {},
   "outputs": [
    {
     "data": {
      "text/html": [
       "<table>\n",
       "<thead><tr><th></th><th scope=col>2.5 %</th><th scope=col>97.5 %</th></tr></thead>\n",
       "<tbody>\n",
       "\t<tr><th scope=row>x2</th><td>0.002923156</td><td>0.006056197</td></tr>\n",
       "</tbody>\n",
       "</table>\n"
      ],
      "text/latex": [
       "\\begin{tabular}{r|ll}\n",
       "  & 2.5 \\% & 97.5 \\%\\\\\n",
       "\\hline\n",
       "\tx2 & 0.002923156 & 0.006056197\\\\\n",
       "\\end{tabular}\n"
      ],
      "text/markdown": [
       "\n",
       "| <!--/--> | 2.5 % | 97.5 % | \n",
       "|---|\n",
       "| x2 | 0.002923156 | 0.006056197 | \n",
       "\n",
       "\n"
      ],
      "text/plain": [
       "   2.5 %       97.5 %     \n",
       "x2 0.002923156 0.006056197"
      ]
     },
     "metadata": {},
     "output_type": "display_data"
    }
   ],
   "source": [
    "confint(m3,\"x2\",0.95)"
   ]
  },
  {
   "cell_type": "code",
   "execution_count": 31,
   "metadata": {},
   "outputs": [
    {
     "data": {
      "text/html": [
       "<table>\n",
       "<thead><tr><th></th><th scope=col>2.5 %</th><th scope=col>97.5 %</th></tr></thead>\n",
       "<tbody>\n",
       "\t<tr><th scope=row>x7</th><td>0.2516523</td><td>0.54481  </td></tr>\n",
       "</tbody>\n",
       "</table>\n"
      ],
      "text/latex": [
       "\\begin{tabular}{r|ll}\n",
       "  & 2.5 \\% & 97.5 \\%\\\\\n",
       "\\hline\n",
       "\tx7 & 0.2516523 & 0.54481  \\\\\n",
       "\\end{tabular}\n"
      ],
      "text/markdown": [
       "\n",
       "| <!--/--> | 2.5 % | 97.5 % | \n",
       "|---|\n",
       "| x7 | 0.2516523 | 0.54481   | \n",
       "\n",
       "\n"
      ],
      "text/plain": [
       "   2.5 %     97.5 % \n",
       "x7 0.2516523 0.54481"
      ]
     },
     "metadata": {},
     "output_type": "display_data"
    }
   ],
   "source": [
    "confint(m3,\"x7\",0.95)"
   ]
  },
  {
   "cell_type": "code",
   "execution_count": 32,
   "metadata": {},
   "outputs": [
    {
     "data": {
      "text/html": [
       "<table>\n",
       "<thead><tr><th></th><th scope=col>2.5 %</th><th scope=col>97.5 %</th></tr></thead>\n",
       "<tbody>\n",
       "\t<tr><th scope=row>x9</th><td>-0.005836208 </td><td>-0.0005558759</td></tr>\n",
       "</tbody>\n",
       "</table>\n"
      ],
      "text/latex": [
       "\\begin{tabular}{r|ll}\n",
       "  & 2.5 \\% & 97.5 \\%\\\\\n",
       "\\hline\n",
       "\tx9 & -0.005836208  & -0.0005558759\\\\\n",
       "\\end{tabular}\n"
      ],
      "text/markdown": [
       "\n",
       "| <!--/--> | 2.5 % | 97.5 % | \n",
       "|---|\n",
       "| x9 | -0.005836208  | -0.0005558759 | \n",
       "\n",
       "\n"
      ],
      "text/plain": [
       "   2.5 %        97.5 %       \n",
       "x9 -0.005836208 -0.0005558759"
      ]
     },
     "metadata": {},
     "output_type": "display_data"
    }
   ],
   "source": [
    "confint(m3,\"x9\",0.95)"
   ]
  },
  {
   "cell_type": "code",
   "execution_count": 34,
   "metadata": {},
   "outputs": [
    {
     "data": {
      "text/html": [
       "<table>\n",
       "<thead><tr><th></th><th scope=col>fit</th><th scope=col>lwr</th><th scope=col>upr</th></tr></thead>\n",
       "<tbody>\n",
       "\t<tr><th scope=row>1</th><td>6.903484</td><td>6.154957</td><td>7.652011</td></tr>\n",
       "</tbody>\n",
       "</table>\n"
      ],
      "text/latex": [
       "\\begin{tabular}{r|lll}\n",
       "  & fit & lwr & upr\\\\\n",
       "\\hline\n",
       "\t1 & 6.903484 & 6.154957 & 7.652011\\\\\n",
       "\\end{tabular}\n"
      ],
      "text/markdown": [
       "\n",
       "| <!--/--> | fit | lwr | upr | \n",
       "|---|\n",
       "| 1 | 6.903484 | 6.154957 | 7.652011 | \n",
       "\n",
       "\n"
      ],
      "text/plain": [
       "  fit      lwr      upr     \n",
       "1 6.903484 6.154957 7.652011"
      ]
     },
     "metadata": {},
     "output_type": "display_data"
    }
   ],
   "source": [
    "\n",
    "predict(m3, data.frame(x2=2127,x7 = 58, x9=2127), interval=\"confidence\",level= 0.95)"
   ]
  },
  {
   "cell_type": "code",
   "execution_count": 35,
   "metadata": {
    "collapsed": true
   },
   "outputs": [],
   "source": [
    "m4<-lm(y~x7+x8, data=m)"
   ]
  },
  {
   "cell_type": "code",
   "execution_count": 36,
   "metadata": {},
   "outputs": [
    {
     "data": {
      "text/plain": [
       "\n",
       "Call:\n",
       "lm(formula = y ~ x7 + x8, data = m)\n",
       "\n",
       "Residuals:\n",
       "    Min      1Q  Median      3Q     Max \n",
       "-3.7985 -1.5166 -0.5792  1.9927  4.5248 \n",
       "\n",
       "Coefficients:\n",
       "             Estimate Std. Error t value Pr(>|t|)   \n",
       "(Intercept) 17.944319   9.862484   1.819  0.08084 . \n",
       "x7           0.048371   0.119219   0.406  0.68839   \n",
       "x8          -0.006537   0.001758  -3.719  0.00102 **\n",
       "---\n",
       "Signif. codes:  0 '***' 0.001 '**' 0.01 '*' 0.05 '.' 0.1 ' ' 1\n",
       "\n",
       "Residual standard error: 2.432 on 25 degrees of freedom\n",
       "Multiple R-squared:  0.5477,\tAdjusted R-squared:  0.5115 \n",
       "F-statistic: 15.13 on 2 and 25 DF,  p-value: 4.935e-05\n"
      ]
     },
     "metadata": {},
     "output_type": "display_data"
    }
   ],
   "source": [
    "summary(m4)"
   ]
  },
  {
   "cell_type": "code",
   "execution_count": 37,
   "metadata": {},
   "outputs": [
    {
     "data": {
      "text/html": [
       "<table>\n",
       "<thead><tr><th></th><th scope=col>fit</th><th scope=col>lwr</th><th scope=col>upr</th></tr></thead>\n",
       "<tbody>\n",
       "\t<tr><th scope=row>1</th><td>6.957618</td><td>6.01014 </td><td>7.905097</td></tr>\n",
       "</tbody>\n",
       "</table>\n"
      ],
      "text/latex": [
       "\\begin{tabular}{r|lll}\n",
       "  & fit & lwr & upr\\\\\n",
       "\\hline\n",
       "\t1 & 6.957618 & 6.01014  & 7.905097\\\\\n",
       "\\end{tabular}\n"
      ],
      "text/markdown": [
       "\n",
       "| <!--/--> | fit | lwr | upr | \n",
       "|---|\n",
       "| 1 | 6.957618 | 6.01014  | 7.905097 | \n",
       "\n",
       "\n"
      ],
      "text/plain": [
       "  fit      lwr     upr     \n",
       "1 6.957618 6.01014 7.905097"
      ]
     },
     "metadata": {},
     "output_type": "display_data"
    }
   ],
   "source": [
    "predict(m4, data.frame( x8=2110, x7=58), interval=\"confidence\",level= 0.95)"
   ]
  },
  {
   "cell_type": "code",
   "execution_count": 1,
   "metadata": {
    "collapsed": true
   },
   "outputs": [],
   "source": [
    "# m3 - 3 variable regressor\n",
    "# R-square -  0.7299\n",
    "# Adj-RSquare-0.6962\n",
    "# m4 - 2 variable regressor\n",
    "# R-square - 0.5477\n",
    "# Adj-RSquare - 0.5115\n",
    "\n",
    "#To compare models we need to use R-square rather than R as R-square does not increase with increase in variables. \n",
    "# R-square of 3 regressors are more. So that is a better model. "
   ]
  },
  {
   "cell_type": "code",
   "execution_count": 8,
   "metadata": {
    "collapsed": true
   },
   "outputs": [],
   "source": [
    "m5<-lm(y~x7+x8,data=m)"
   ]
  },
  {
   "cell_type": "code",
   "execution_count": 10,
   "metadata": {},
   "outputs": [
    {
     "data": {
      "text/html": [
       "<table>\n",
       "<thead><tr><th></th><th scope=col>fit</th><th scope=col>lwr</th><th scope=col>upr</th></tr></thead>\n",
       "<tbody>\n",
       "\t<tr><th scope=row>1</th><td>6.860877</td><td>5.77593 </td><td>7.945823</td></tr>\n",
       "</tbody>\n",
       "</table>\n"
      ],
      "text/latex": [
       "\\begin{tabular}{r|lll}\n",
       "  & fit & lwr & upr\\\\\n",
       "\\hline\n",
       "\t1 & 6.860877 & 5.77593  & 7.945823\\\\\n",
       "\\end{tabular}\n"
      ],
      "text/markdown": [
       "\n",
       "| <!--/--> | fit | lwr | upr | \n",
       "|---|\n",
       "| 1 | 6.860877 | 5.77593  | 7.945823 | \n",
       "\n",
       "\n"
      ],
      "text/plain": [
       "  fit      lwr     upr     \n",
       "1 6.860877 5.77593 7.945823"
      ]
     },
     "metadata": {},
     "output_type": "display_data"
    }
   ],
   "source": [
    "predict(m5, data.frame( x8=2110, x7=56), interval=\"confidence\",level= 0.95)"
   ]
  },
  {
   "cell_type": "code",
   "execution_count": null,
   "metadata": {
    "collapsed": true
   },
   "outputs": [],
   "source": [
    "# This depends on the significants of the variable. If the variable highly contibutes to the model and\n",
    "#if we remove that variable then the Adj-R square value will reduce.\n",
    "# In case if the variable does not contibute to the model removing the model will have a better Adj-R square value.\n",
    "# R value increase with the increase in the number of regressors"
   ]
  }
 ],
 "metadata": {
  "kernelspec": {
   "display_name": "R",
   "language": "R",
   "name": "r"
  },
  "language_info": {
   "codemirror_mode": "r",
   "file_extension": ".r",
   "mimetype": "text/x-r-source",
   "name": "R",
   "pygments_lexer": "r",
   "version": "3.3.0"
  }
 },
 "nbformat": 4,
 "nbformat_minor": 2
}
