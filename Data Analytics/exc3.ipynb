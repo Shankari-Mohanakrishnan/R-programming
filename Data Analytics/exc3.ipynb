{
 "cells": [
  {
   "cell_type": "code",
   "execution_count": 1,
   "metadata": {
    "collapsed": true
   },
   "outputs": [],
   "source": [
    "data <- read.csv(\"houseprice.csv\",header=TRUE,sep=';')\n",
    "y=data[,1]\n",
    "x1=data[,2]\n",
    "x2=data[,3]\n",
    "x3=data[,4]\n",
    "x4=data[,5]\n",
    "x5=data[,6]\n",
    "x6=data[,7]\n",
    "x7=data[,8]\n",
    "x8=data[,9]\n",
    "x9=data[,10]\n"
   ]
  },
  {
   "cell_type": "code",
   "execution_count": 2,
   "metadata": {},
   "outputs": [
    {
     "data": {
      "text/plain": [
       "\n",
       "Call:\n",
       "lm(formula = y ~ x1 + x2 + x3 + x4 + x5 + x6 + x7 + x8 + x9, \n",
       "    data = data)\n",
       "\n",
       "Residuals:\n",
       "   Min     1Q Median     3Q    Max \n",
       "-3.720 -1.956 -0.045  1.627  4.253 \n",
       "\n",
       "Coefficients:\n",
       "            Estimate Std. Error t value Pr(>|t|)  \n",
       "(Intercept) 14.92765    5.91285   2.525   0.0243 *\n",
       "x1           1.92472    1.02990   1.869   0.0827 .\n",
       "x2           7.00053    4.30037   1.628   0.1258  \n",
       "x3           0.14918    0.49039   0.304   0.7654  \n",
       "x4           2.72281    4.35955   0.625   0.5423  \n",
       "x5           2.00668    1.37351   1.461   0.1661  \n",
       "x6          -0.41012    2.37854  -0.172   0.8656  \n",
       "x7          -1.40324    3.39554  -0.413   0.6857  \n",
       "x8          -0.03715    0.06672  -0.557   0.5865  \n",
       "x9           1.55945    1.93750   0.805   0.4343  \n",
       "---\n",
       "Signif. codes:  0 '***' 0.001 '**' 0.01 '*' 0.05 '.' 0.1 ' ' 1\n",
       "\n",
       "Residual standard error: 2.949 on 14 degrees of freedom\n",
       "Multiple R-squared:  0.8531,\tAdjusted R-squared:  0.7587 \n",
       "F-statistic: 9.037 on 9 and 14 DF,  p-value: 0.000185\n"
      ]
     },
     "metadata": {},
     "output_type": "display_data"
    }
   ],
   "source": [
    "mlr <- lm(y~x1+x2+x3+x4+x5+x6+x7+x8+x9, data =data) \n",
    "summary(mlr)\n"
   ]
  },
  {
   "cell_type": "code",
   "execution_count": null,
   "metadata": {
    "collapsed": true
   },
   "outputs": [],
   "source": [
    "#In the model  we can observe that p value for every independent X variable is greater than 0.05, \n",
    "#therefore they do not have much significance on Y. We need to drop a variable at a time and then \n",
    "#check accordingly.\n"
   ]
  },
  {
   "cell_type": "code",
   "execution_count": 3,
   "metadata": {},
   "outputs": [
    {
     "data": {
      "text/plain": [
       "\n",
       "\tOne Sample t-test\n",
       "\n",
       "data:  x1\n",
       "t = 19.834, df = 23, p-value = 5.799e-16\n",
       "alternative hypothesis: true mean is not equal to 0\n",
       "95 percent confidence interval:\n",
       " 5.736894 7.072939\n",
       "sample estimates:\n",
       "mean of x \n",
       " 6.404917 \n"
      ]
     },
     "metadata": {},
     "output_type": "display_data"
    }
   ],
   "source": [
    "# From the summary of the linear model none of the t values seem to be lesser than 0.05 at 95% significance. \n",
    "# So we should not reject the null hypothesis.\n",
    "\n",
    "t.test(x1,data=mlr)"
   ]
  },
  {
   "cell_type": "code",
   "execution_count": 4,
   "metadata": {},
   "outputs": [
    {
     "data": {
      "text/plain": [
       "\n",
       "\tOne Sample t-test\n",
       "\n",
       "data:  x2\n",
       "t = 23.738, df = 23, p-value < 2.2e-16\n",
       "alternative hypothesis: true mean is not equal to 0\n",
       "95 percent confidence interval:\n",
       " 1.064998 1.268336\n",
       "sample estimates:\n",
       "mean of x \n",
       " 1.166667 \n"
      ]
     },
     "metadata": {},
     "output_type": "display_data"
    }
   ],
   "source": [
    "t.test(x2,data=mlr)"
   ]
  },
  {
   "cell_type": "code",
   "execution_count": 5,
   "metadata": {},
   "outputs": [
    {
     "data": {
      "text/plain": [
       "\n",
       "\tOne Sample t-test\n",
       "\n",
       "data:  x3\n",
       "t = 15.043, df = 23, p-value = 2.155e-13\n",
       "alternative hypothesis: true mean is not equal to 0\n",
       "95 percent confidence interval:\n",
       " 5.203075 6.862259\n",
       "sample estimates:\n",
       "mean of x \n",
       " 6.032667 \n"
      ]
     },
     "metadata": {},
     "output_type": "display_data"
    }
   ],
   "source": [
    "t.test(x3,data=mlr)"
   ]
  },
  {
   "cell_type": "code",
   "execution_count": 6,
   "metadata": {},
   "outputs": [
    {
     "data": {
      "text/plain": [
       "\n",
       "\tOne Sample t-test\n",
       "\n",
       "data:  x4\n",
       "t = 24.535, df = 23, p-value < 2.2e-16\n",
       "alternative hypothesis: true mean is not equal to 0\n",
       "95 percent confidence interval:\n",
       " 1.266926 1.500240\n",
       "sample estimates:\n",
       "mean of x \n",
       " 1.383583 \n"
      ]
     },
     "metadata": {},
     "output_type": "display_data"
    }
   ],
   "source": [
    "t.test(x4,data=mlr)"
   ]
  },
  {
   "cell_type": "code",
   "execution_count": 7,
   "metadata": {},
   "outputs": [
    {
     "data": {
      "text/plain": [
       "\n",
       "\tOne Sample t-test\n",
       "\n",
       "data:  x5\n",
       "t = 10.636, df = 23, p-value = 2.36e-10\n",
       "alternative hypothesis: true mean is not equal to 0\n",
       "95 percent confidence interval:\n",
       " 1.057218 1.567782\n",
       "sample estimates:\n",
       "mean of x \n",
       "   1.3125 \n"
      ]
     },
     "metadata": {},
     "output_type": "display_data"
    }
   ],
   "source": [
    "t.test(x5,data=mlr)"
   ]
  },
  {
   "cell_type": "code",
   "execution_count": 8,
   "metadata": {},
   "outputs": [
    {
     "data": {
      "text/plain": [
       "\n",
       "\tOne Sample t-test\n",
       "\n",
       "data:  x6\n",
       "t = 35.995, df = 23, p-value < 2.2e-16\n",
       "alternative hypothesis: true mean is not equal to 0\n",
       "95 percent confidence interval:\n",
       " 6.126444 6.873556\n",
       "sample estimates:\n",
       "mean of x \n",
       "      6.5 \n"
      ]
     },
     "metadata": {},
     "output_type": "display_data"
    }
   ],
   "source": [
    "t.test(x6,data=mlr)"
   ]
  },
  {
   "cell_type": "code",
   "execution_count": 9,
   "metadata": {},
   "outputs": [
    {
     "data": {
      "text/plain": [
       "\n",
       "\tOne Sample t-test\n",
       "\n",
       "data:  x7\n",
       "t = 27.474, df = 23, p-value < 2.2e-16\n",
       "alternative hypothesis: true mean is not equal to 0\n",
       "95 percent confidence interval:\n",
       " 2.928232 3.405102\n",
       "sample estimates:\n",
       "mean of x \n",
       " 3.166667 \n"
      ]
     },
     "metadata": {},
     "output_type": "display_data"
    }
   ],
   "source": [
    "t.test(x7,data=mlr)"
   ]
  },
  {
   "cell_type": "code",
   "execution_count": 10,
   "metadata": {},
   "outputs": [
    {
     "data": {
      "text/plain": [
       "\n",
       "\tOne Sample t-test\n",
       "\n",
       "data:  x8\n",
       "t = 13.07, df = 23, p-value = 3.945e-12\n",
       "alternative hypothesis: true mean is not equal to 0\n",
       "95 percent confidence interval:\n",
       " 31.52966 43.38701\n",
       "sample estimates:\n",
       "mean of x \n",
       " 37.45833 \n"
      ]
     },
     "metadata": {},
     "output_type": "display_data"
    }
   ],
   "source": [
    "t.test(x8,data=mlr)"
   ]
  },
  {
   "cell_type": "code",
   "execution_count": 11,
   "metadata": {},
   "outputs": [
    {
     "data": {
      "text/plain": [
       "\n",
       "\tOne Sample t-test\n",
       "\n",
       "data:  x9\n",
       "t = 2.7689, df = 23, p-value = 0.01092\n",
       "alternative hypothesis: true mean is not equal to 0\n",
       "95 percent confidence interval:\n",
       " 0.06322217 0.43677783\n",
       "sample estimates:\n",
       "mean of x \n",
       "     0.25 \n"
      ]
     },
     "metadata": {},
     "output_type": "display_data"
    }
   ],
   "source": [
    "t.test(x9,data=mlr)"
   ]
  },
  {
   "cell_type": "code",
   "execution_count": null,
   "metadata": {
    "collapsed": true
   },
   "outputs": [],
   "source": [
    "# The lot size is x3 and living space is x4. \n",
    "# x3 = 0.7654 \n",
    "#x4 = 0.5423 \n",
    "# As per the model x4 affects the model more than x3. Both are less significant as the value is must higher than 0.05"
   ]
  },
  {
   "cell_type": "code",
   "execution_count": 13,
   "metadata": {
    "collapsed": true
   },
   "outputs": [],
   "source": [
    "library(car)"
   ]
  },
  {
   "cell_type": "code",
   "execution_count": 14,
   "metadata": {},
   "outputs": [
    {
     "data": {
      "text/html": [
       "<dl class=dl-horizontal>\n",
       "\t<dt>x1</dt>\n",
       "\t\t<dd>7.02103591453311</dd>\n",
       "\t<dt>x2</dt>\n",
       "\t\t<dd>2.83541316099473</dd>\n",
       "\t<dt>x3</dt>\n",
       "\t\t<dd>2.45490703978833</dd>\n",
       "\t<dt>x4</dt>\n",
       "\t\t<dd>3.8364771512241</dd>\n",
       "\t<dt>x5</dt>\n",
       "\t\t<dd>1.82360465170332</dd>\n",
       "\t<dt>x6</dt>\n",
       "\t\t<dd>11.7101007566985</dd>\n",
       "\t<dt>x7</dt>\n",
       "\t\t<dd>9.72266302659414</dd>\n",
       "\t<dt>x8</dt>\n",
       "\t\t<dd>2.32088687479244</dd>\n",
       "\t<dt>x9</dt>\n",
       "\t\t<dd>1.94249404795236</dd>\n",
       "</dl>\n"
      ],
      "text/latex": [
       "\\begin{description*}\n",
       "\\item[x1] 7.02103591453311\n",
       "\\item[x2] 2.83541316099473\n",
       "\\item[x3] 2.45490703978833\n",
       "\\item[x4] 3.8364771512241\n",
       "\\item[x5] 1.82360465170332\n",
       "\\item[x6] 11.7101007566985\n",
       "\\item[x7] 9.72266302659414\n",
       "\\item[x8] 2.32088687479244\n",
       "\\item[x9] 1.94249404795236\n",
       "\\end{description*}\n"
      ],
      "text/markdown": [
       "x1\n",
       ":   7.02103591453311x2\n",
       ":   2.83541316099473x3\n",
       ":   2.45490703978833x4\n",
       ":   3.8364771512241x5\n",
       ":   1.82360465170332x6\n",
       ":   11.7101007566985x7\n",
       ":   9.72266302659414x8\n",
       ":   2.32088687479244x9\n",
       ":   1.94249404795236\n",
       "\n"
      ],
      "text/plain": [
       "       x1        x2        x3        x4        x5        x6        x7        x8 \n",
       " 7.021036  2.835413  2.454907  3.836477  1.823605 11.710101  9.722663  2.320887 \n",
       "       x9 \n",
       " 1.942494 "
      ]
     },
     "metadata": {},
     "output_type": "display_data"
    }
   ],
   "source": [
    "vif(mlr)"
   ]
  },
  {
   "cell_type": "code",
   "execution_count": null,
   "metadata": {
    "collapsed": true
   },
   "outputs": [],
   "source": [
    "## When the VIF value is greater than 5 then there is a serious issue. \n",
    "#x1,x6 and x7 have multicolliniarity problem\n"
   ]
  }
 ],
 "metadata": {
  "kernelspec": {
   "display_name": "R",
   "language": "R",
   "name": "r"
  },
  "language_info": {
   "codemirror_mode": "r",
   "file_extension": ".r",
   "mimetype": "text/x-r-source",
   "name": "R",
   "pygments_lexer": "r",
   "version": "3.3.0"
  }
 },
 "nbformat": 4,
 "nbformat_minor": 2
}
