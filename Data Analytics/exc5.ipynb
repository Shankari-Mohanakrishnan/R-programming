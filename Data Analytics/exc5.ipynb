{
 "cells": [
  {
   "cell_type": "code",
   "execution_count": 5,
   "metadata": {},
   "outputs": [
    {
     "name": "stderr",
     "output_type": "stream",
     "text": [
      "Loading required package: lattice\n",
      "Loading required package: ggplot2\n",
      "\n",
      "Attaching package: 'kknn'\n",
      "\n",
      "The following object is masked from 'package:caret':\n",
      "\n",
      "    contr.dummy\n",
      "\n",
      "\n",
      "Attaching package: 'kernlab'\n",
      "\n",
      "The following object is masked from 'package:ggplot2':\n",
      "\n",
      "    alpha\n",
      "\n"
     ]
    }
   ],
   "source": [
    "library(caret)\n",
    "library(class) #k-nearest neighbors \n",
    "library(kknn) #weighted k-nearest neighbors \n",
    "library(e1071) #SVM \n",
    "library(caret) #select tuning parameters \n",
    "library(MASS) # contains the data \n",
    "library(reshape2) #assist in creating boxplots \n",
    "library(ggplot2) #create boxplots \n",
    "library(kernlab) #assist with SVM feature selection\n",
    "\n"
   ]
  },
  {
   "cell_type": "code",
   "execution_count": 6,
   "metadata": {},
   "outputs": [
    {
     "data": {
      "text/html": [
       "<table>\n",
       "<thead><tr><th scope=col>npreg</th><th scope=col>glu</th><th scope=col>bp</th><th scope=col>skin</th><th scope=col>bmi</th><th scope=col>ped</th><th scope=col>age</th><th scope=col>type</th></tr></thead>\n",
       "<tbody>\n",
       "\t<tr><td> 5   </td><td> 86  </td><td>68   </td><td>28   </td><td>30.2 </td><td>0.364</td><td>24   </td><td>No   </td></tr>\n",
       "\t<tr><td> 7   </td><td>195  </td><td>70   </td><td>33   </td><td>25.1 </td><td>0.163</td><td>55   </td><td>Yes  </td></tr>\n",
       "\t<tr><td> 5   </td><td> 77  </td><td>82   </td><td>41   </td><td>35.8 </td><td>0.156</td><td>35   </td><td>No   </td></tr>\n",
       "\t<tr><td> 0   </td><td>165  </td><td>76   </td><td>43   </td><td>47.9 </td><td>0.259</td><td>26   </td><td>No   </td></tr>\n",
       "\t<tr><td> 0   </td><td>107  </td><td>60   </td><td>25   </td><td>26.4 </td><td>0.133</td><td>23   </td><td>No   </td></tr>\n",
       "\t<tr><td> 5   </td><td> 97  </td><td>76   </td><td>27   </td><td>35.6 </td><td>0.378</td><td>52   </td><td>Yes  </td></tr>\n",
       "\t<tr><td> 3   </td><td> 83  </td><td>58   </td><td>31   </td><td>34.3 </td><td>0.336</td><td>25   </td><td>No   </td></tr>\n",
       "\t<tr><td> 1   </td><td>193  </td><td>50   </td><td>16   </td><td>25.9 </td><td>0.655</td><td>24   </td><td>No   </td></tr>\n",
       "\t<tr><td> 3   </td><td>142  </td><td>80   </td><td>15   </td><td>32.4 </td><td>0.200</td><td>63   </td><td>No   </td></tr>\n",
       "\t<tr><td> 2   </td><td>128  </td><td>78   </td><td>37   </td><td>43.3 </td><td>1.224</td><td>31   </td><td>Yes  </td></tr>\n",
       "\t<tr><td> 0   </td><td>137  </td><td>40   </td><td>35   </td><td>43.1 </td><td>2.288</td><td>33   </td><td>Yes  </td></tr>\n",
       "\t<tr><td> 9   </td><td>154  </td><td>78   </td><td>30   </td><td>30.9 </td><td>0.164</td><td>45   </td><td>No   </td></tr>\n",
       "\t<tr><td> 1   </td><td>189  </td><td>60   </td><td>23   </td><td>30.1 </td><td>0.398</td><td>59   </td><td>Yes  </td></tr>\n",
       "\t<tr><td>12   </td><td> 92  </td><td>62   </td><td> 7   </td><td>27.6 </td><td>0.926</td><td>44   </td><td>Yes  </td></tr>\n",
       "\t<tr><td> 1   </td><td> 86  </td><td>66   </td><td>52   </td><td>41.3 </td><td>0.917</td><td>29   </td><td>No   </td></tr>\n",
       "\t<tr><td> 4   </td><td> 99  </td><td>76   </td><td>15   </td><td>23.2 </td><td>0.223</td><td>21   </td><td>No   </td></tr>\n",
       "\t<tr><td> 1   </td><td>109  </td><td>60   </td><td> 8   </td><td>25.4 </td><td>0.947</td><td>21   </td><td>No   </td></tr>\n",
       "\t<tr><td>11   </td><td>143  </td><td>94   </td><td>33   </td><td>36.6 </td><td>0.254</td><td>51   </td><td>Yes  </td></tr>\n",
       "\t<tr><td> 1   </td><td>149  </td><td>68   </td><td>29   </td><td>29.3 </td><td>0.349</td><td>42   </td><td>Yes  </td></tr>\n",
       "\t<tr><td> 0   </td><td>139  </td><td>62   </td><td>17   </td><td>22.1 </td><td>0.207</td><td>21   </td><td>No   </td></tr>\n",
       "\t<tr><td> 2   </td><td> 99  </td><td>70   </td><td>16   </td><td>20.4 </td><td>0.235</td><td>27   </td><td>No   </td></tr>\n",
       "\t<tr><td> 1   </td><td>100  </td><td>66   </td><td>29   </td><td>32.0 </td><td>0.444</td><td>42   </td><td>No   </td></tr>\n",
       "\t<tr><td> 4   </td><td> 83  </td><td>86   </td><td>19   </td><td>29.3 </td><td>0.317</td><td>34   </td><td>No   </td></tr>\n",
       "\t<tr><td> 0   </td><td>101  </td><td>64   </td><td>17   </td><td>21.0 </td><td>0.252</td><td>21   </td><td>No   </td></tr>\n",
       "\t<tr><td> 1   </td><td> 87  </td><td>68   </td><td>34   </td><td>37.6 </td><td>0.401</td><td>24   </td><td>No   </td></tr>\n",
       "\t<tr><td> 9   </td><td>164  </td><td>84   </td><td>21   </td><td>30.8 </td><td>0.831</td><td>32   </td><td>Yes  </td></tr>\n",
       "\t<tr><td> 1   </td><td> 99  </td><td>58   </td><td>10   </td><td>25.4 </td><td>0.551</td><td>21   </td><td>No   </td></tr>\n",
       "\t<tr><td> 0   </td><td>140  </td><td>65   </td><td>26   </td><td>42.6 </td><td>0.431</td><td>24   </td><td>Yes  </td></tr>\n",
       "\t<tr><td> 5   </td><td>108  </td><td>72   </td><td>43   </td><td>36.1 </td><td>0.263</td><td>33   </td><td>No   </td></tr>\n",
       "\t<tr><td> 2   </td><td>110  </td><td>74   </td><td>29   </td><td>32.4 </td><td>0.698</td><td>27   </td><td>No   </td></tr>\n",
       "\t<tr><td>...</td><td>...</td><td>...</td><td>...</td><td>...</td><td>...</td><td>...</td><td>...</td></tr>\n",
       "\t<tr><td>10   </td><td>129  </td><td>62   </td><td>36   </td><td>41.2 </td><td>0.441</td><td>38   </td><td>Yes  </td></tr>\n",
       "\t<tr><td> 0   </td><td>134  </td><td>58   </td><td>20   </td><td>26.4 </td><td>0.352</td><td>21   </td><td>No   </td></tr>\n",
       "\t<tr><td> 7   </td><td>187  </td><td>50   </td><td>33   </td><td>33.9 </td><td>0.826</td><td>34   </td><td>Yes  </td></tr>\n",
       "\t<tr><td> 3   </td><td>173  </td><td>78   </td><td>39   </td><td>33.8 </td><td>0.970</td><td>31   </td><td>Yes  </td></tr>\n",
       "\t<tr><td>10   </td><td> 94  </td><td>72   </td><td>18   </td><td>23.1 </td><td>0.595</td><td>56   </td><td>No   </td></tr>\n",
       "\t<tr><td> 1   </td><td>108  </td><td>60   </td><td>46   </td><td>35.5 </td><td>0.415</td><td>24   </td><td>No   </td></tr>\n",
       "\t<tr><td> 5   </td><td>117  </td><td>86   </td><td>30   </td><td>39.1 </td><td>0.251</td><td>42   </td><td>No   </td></tr>\n",
       "\t<tr><td> 1   </td><td>116  </td><td>78   </td><td>29   </td><td>36.1 </td><td>0.496</td><td>25   </td><td>No   </td></tr>\n",
       "\t<tr><td> 0   </td><td>141  </td><td>84   </td><td>26   </td><td>32.4 </td><td>0.433</td><td>22   </td><td>No   </td></tr>\n",
       "\t<tr><td> 2   </td><td>174  </td><td>88   </td><td>37   </td><td>44.5 </td><td>0.646</td><td>24   </td><td>Yes  </td></tr>\n",
       "\t<tr><td> 2   </td><td>106  </td><td>56   </td><td>27   </td><td>29.0 </td><td>0.426</td><td>22   </td><td>No   </td></tr>\n",
       "\t<tr><td> 0   </td><td>126  </td><td>86   </td><td>27   </td><td>27.4 </td><td>0.515</td><td>21   </td><td>No   </td></tr>\n",
       "\t<tr><td> 8   </td><td> 65  </td><td>72   </td><td>23   </td><td>32.0 </td><td>0.600</td><td>42   </td><td>No   </td></tr>\n",
       "\t<tr><td> 2   </td><td> 99  </td><td>60   </td><td>17   </td><td>36.6 </td><td>0.453</td><td>21   </td><td>No   </td></tr>\n",
       "\t<tr><td>11   </td><td>120  </td><td>80   </td><td>37   </td><td>42.3 </td><td>0.785</td><td>48   </td><td>Yes  </td></tr>\n",
       "\t<tr><td> 3   </td><td>102  </td><td>44   </td><td>20   </td><td>30.8 </td><td>0.400</td><td>26   </td><td>No   </td></tr>\n",
       "\t<tr><td> 1   </td><td>109  </td><td>58   </td><td>18   </td><td>28.5 </td><td>0.219</td><td>22   </td><td>No   </td></tr>\n",
       "\t<tr><td>13   </td><td>153  </td><td>88   </td><td>37   </td><td>40.6 </td><td>1.174</td><td>39   </td><td>No   </td></tr>\n",
       "\t<tr><td>12   </td><td>100  </td><td>84   </td><td>33   </td><td>30.0 </td><td>0.488</td><td>46   </td><td>No   </td></tr>\n",
       "\t<tr><td> 1   </td><td>147  </td><td>94   </td><td>41   </td><td>49.3 </td><td>0.358</td><td>27   </td><td>Yes  </td></tr>\n",
       "\t<tr><td> 3   </td><td>187  </td><td>70   </td><td>22   </td><td>36.4 </td><td>0.408</td><td>36   </td><td>Yes  </td></tr>\n",
       "\t<tr><td> 1   </td><td>121  </td><td>78   </td><td>39   </td><td>39.0 </td><td>0.261</td><td>28   </td><td>No   </td></tr>\n",
       "\t<tr><td> 3   </td><td>108  </td><td>62   </td><td>24   </td><td>26.0 </td><td>0.223</td><td>25   </td><td>No   </td></tr>\n",
       "\t<tr><td> 0   </td><td>181  </td><td>88   </td><td>44   </td><td>43.3 </td><td>0.222</td><td>26   </td><td>Yes  </td></tr>\n",
       "\t<tr><td> 1   </td><td>128  </td><td>88   </td><td>39   </td><td>36.5 </td><td>1.057</td><td>37   </td><td>Yes  </td></tr>\n",
       "\t<tr><td> 2   </td><td> 88  </td><td>58   </td><td>26   </td><td>28.4 </td><td>0.766</td><td>22   </td><td>No   </td></tr>\n",
       "\t<tr><td> 9   </td><td>170  </td><td>74   </td><td>31   </td><td>44.0 </td><td>0.403</td><td>43   </td><td>Yes  </td></tr>\n",
       "\t<tr><td>10   </td><td>101  </td><td>76   </td><td>48   </td><td>32.9 </td><td>0.171</td><td>63   </td><td>No   </td></tr>\n",
       "\t<tr><td> 5   </td><td>121  </td><td>72   </td><td>23   </td><td>26.2 </td><td>0.245</td><td>30   </td><td>No   </td></tr>\n",
       "\t<tr><td> 1   </td><td> 93  </td><td>70   </td><td>31   </td><td>30.4 </td><td>0.315</td><td>23   </td><td>No   </td></tr>\n",
       "</tbody>\n",
       "</table>\n"
      ],
      "text/latex": [
       "\\begin{tabular}{r|llllllll}\n",
       " npreg & glu & bp & skin & bmi & ped & age & type\\\\\n",
       "\\hline\n",
       "\t  5    &  86   & 68    & 28    & 30.2  & 0.364 & 24    & No   \\\\\n",
       "\t  7    & 195   & 70    & 33    & 25.1  & 0.163 & 55    & Yes  \\\\\n",
       "\t  5    &  77   & 82    & 41    & 35.8  & 0.156 & 35    & No   \\\\\n",
       "\t  0    & 165   & 76    & 43    & 47.9  & 0.259 & 26    & No   \\\\\n",
       "\t  0    & 107   & 60    & 25    & 26.4  & 0.133 & 23    & No   \\\\\n",
       "\t  5    &  97   & 76    & 27    & 35.6  & 0.378 & 52    & Yes  \\\\\n",
       "\t  3    &  83   & 58    & 31    & 34.3  & 0.336 & 25    & No   \\\\\n",
       "\t  1    & 193   & 50    & 16    & 25.9  & 0.655 & 24    & No   \\\\\n",
       "\t  3    & 142   & 80    & 15    & 32.4  & 0.200 & 63    & No   \\\\\n",
       "\t  2    & 128   & 78    & 37    & 43.3  & 1.224 & 31    & Yes  \\\\\n",
       "\t  0    & 137   & 40    & 35    & 43.1  & 2.288 & 33    & Yes  \\\\\n",
       "\t  9    & 154   & 78    & 30    & 30.9  & 0.164 & 45    & No   \\\\\n",
       "\t  1    & 189   & 60    & 23    & 30.1  & 0.398 & 59    & Yes  \\\\\n",
       "\t 12    &  92   & 62    &  7    & 27.6  & 0.926 & 44    & Yes  \\\\\n",
       "\t  1    &  86   & 66    & 52    & 41.3  & 0.917 & 29    & No   \\\\\n",
       "\t  4    &  99   & 76    & 15    & 23.2  & 0.223 & 21    & No   \\\\\n",
       "\t  1    & 109   & 60    &  8    & 25.4  & 0.947 & 21    & No   \\\\\n",
       "\t 11    & 143   & 94    & 33    & 36.6  & 0.254 & 51    & Yes  \\\\\n",
       "\t  1    & 149   & 68    & 29    & 29.3  & 0.349 & 42    & Yes  \\\\\n",
       "\t  0    & 139   & 62    & 17    & 22.1  & 0.207 & 21    & No   \\\\\n",
       "\t  2    &  99   & 70    & 16    & 20.4  & 0.235 & 27    & No   \\\\\n",
       "\t  1    & 100   & 66    & 29    & 32.0  & 0.444 & 42    & No   \\\\\n",
       "\t  4    &  83   & 86    & 19    & 29.3  & 0.317 & 34    & No   \\\\\n",
       "\t  0    & 101   & 64    & 17    & 21.0  & 0.252 & 21    & No   \\\\\n",
       "\t  1    &  87   & 68    & 34    & 37.6  & 0.401 & 24    & No   \\\\\n",
       "\t  9    & 164   & 84    & 21    & 30.8  & 0.831 & 32    & Yes  \\\\\n",
       "\t  1    &  99   & 58    & 10    & 25.4  & 0.551 & 21    & No   \\\\\n",
       "\t  0    & 140   & 65    & 26    & 42.6  & 0.431 & 24    & Yes  \\\\\n",
       "\t  5    & 108   & 72    & 43    & 36.1  & 0.263 & 33    & No   \\\\\n",
       "\t  2    & 110   & 74    & 29    & 32.4  & 0.698 & 27    & No   \\\\\n",
       "\t ... & ... & ... & ... & ... & ... & ... & ...\\\\\n",
       "\t 10    & 129   & 62    & 36    & 41.2  & 0.441 & 38    & Yes  \\\\\n",
       "\t  0    & 134   & 58    & 20    & 26.4  & 0.352 & 21    & No   \\\\\n",
       "\t  7    & 187   & 50    & 33    & 33.9  & 0.826 & 34    & Yes  \\\\\n",
       "\t  3    & 173   & 78    & 39    & 33.8  & 0.970 & 31    & Yes  \\\\\n",
       "\t 10    &  94   & 72    & 18    & 23.1  & 0.595 & 56    & No   \\\\\n",
       "\t  1    & 108   & 60    & 46    & 35.5  & 0.415 & 24    & No   \\\\\n",
       "\t  5    & 117   & 86    & 30    & 39.1  & 0.251 & 42    & No   \\\\\n",
       "\t  1    & 116   & 78    & 29    & 36.1  & 0.496 & 25    & No   \\\\\n",
       "\t  0    & 141   & 84    & 26    & 32.4  & 0.433 & 22    & No   \\\\\n",
       "\t  2    & 174   & 88    & 37    & 44.5  & 0.646 & 24    & Yes  \\\\\n",
       "\t  2    & 106   & 56    & 27    & 29.0  & 0.426 & 22    & No   \\\\\n",
       "\t  0    & 126   & 86    & 27    & 27.4  & 0.515 & 21    & No   \\\\\n",
       "\t  8    &  65   & 72    & 23    & 32.0  & 0.600 & 42    & No   \\\\\n",
       "\t  2    &  99   & 60    & 17    & 36.6  & 0.453 & 21    & No   \\\\\n",
       "\t 11    & 120   & 80    & 37    & 42.3  & 0.785 & 48    & Yes  \\\\\n",
       "\t  3    & 102   & 44    & 20    & 30.8  & 0.400 & 26    & No   \\\\\n",
       "\t  1    & 109   & 58    & 18    & 28.5  & 0.219 & 22    & No   \\\\\n",
       "\t 13    & 153   & 88    & 37    & 40.6  & 1.174 & 39    & No   \\\\\n",
       "\t 12    & 100   & 84    & 33    & 30.0  & 0.488 & 46    & No   \\\\\n",
       "\t  1    & 147   & 94    & 41    & 49.3  & 0.358 & 27    & Yes  \\\\\n",
       "\t  3    & 187   & 70    & 22    & 36.4  & 0.408 & 36    & Yes  \\\\\n",
       "\t  1    & 121   & 78    & 39    & 39.0  & 0.261 & 28    & No   \\\\\n",
       "\t  3    & 108   & 62    & 24    & 26.0  & 0.223 & 25    & No   \\\\\n",
       "\t  0    & 181   & 88    & 44    & 43.3  & 0.222 & 26    & Yes  \\\\\n",
       "\t  1    & 128   & 88    & 39    & 36.5  & 1.057 & 37    & Yes  \\\\\n",
       "\t  2    &  88   & 58    & 26    & 28.4  & 0.766 & 22    & No   \\\\\n",
       "\t  9    & 170   & 74    & 31    & 44.0  & 0.403 & 43    & Yes  \\\\\n",
       "\t 10    & 101   & 76    & 48    & 32.9  & 0.171 & 63    & No   \\\\\n",
       "\t  5    & 121   & 72    & 23    & 26.2  & 0.245 & 30    & No   \\\\\n",
       "\t  1    &  93   & 70    & 31    & 30.4  & 0.315 & 23    & No   \\\\\n",
       "\\end{tabular}\n"
      ],
      "text/markdown": [
       "\n",
       "npreg | glu | bp | skin | bmi | ped | age | type | \n",
       "|---|---|---|---|---|---|---|---|---|---|---|---|---|---|---|---|---|---|---|---|---|---|---|---|---|---|---|---|---|---|---|---|---|---|---|---|---|---|---|---|---|---|---|---|---|---|---|---|---|---|---|---|---|---|---|---|---|---|---|---|---|\n",
       "|  5    |  86   | 68    | 28    | 30.2  | 0.364 | 24    | No    | \n",
       "|  7    | 195   | 70    | 33    | 25.1  | 0.163 | 55    | Yes   | \n",
       "|  5    |  77   | 82    | 41    | 35.8  | 0.156 | 35    | No    | \n",
       "|  0    | 165   | 76    | 43    | 47.9  | 0.259 | 26    | No    | \n",
       "|  0    | 107   | 60    | 25    | 26.4  | 0.133 | 23    | No    | \n",
       "|  5    |  97   | 76    | 27    | 35.6  | 0.378 | 52    | Yes   | \n",
       "|  3    |  83   | 58    | 31    | 34.3  | 0.336 | 25    | No    | \n",
       "|  1    | 193   | 50    | 16    | 25.9  | 0.655 | 24    | No    | \n",
       "|  3    | 142   | 80    | 15    | 32.4  | 0.200 | 63    | No    | \n",
       "|  2    | 128   | 78    | 37    | 43.3  | 1.224 | 31    | Yes   | \n",
       "|  0    | 137   | 40    | 35    | 43.1  | 2.288 | 33    | Yes   | \n",
       "|  9    | 154   | 78    | 30    | 30.9  | 0.164 | 45    | No    | \n",
       "|  1    | 189   | 60    | 23    | 30.1  | 0.398 | 59    | Yes   | \n",
       "| 12    |  92   | 62    |  7    | 27.6  | 0.926 | 44    | Yes   | \n",
       "|  1    |  86   | 66    | 52    | 41.3  | 0.917 | 29    | No    | \n",
       "|  4    |  99   | 76    | 15    | 23.2  | 0.223 | 21    | No    | \n",
       "|  1    | 109   | 60    |  8    | 25.4  | 0.947 | 21    | No    | \n",
       "| 11    | 143   | 94    | 33    | 36.6  | 0.254 | 51    | Yes   | \n",
       "|  1    | 149   | 68    | 29    | 29.3  | 0.349 | 42    | Yes   | \n",
       "|  0    | 139   | 62    | 17    | 22.1  | 0.207 | 21    | No    | \n",
       "|  2    |  99   | 70    | 16    | 20.4  | 0.235 | 27    | No    | \n",
       "|  1    | 100   | 66    | 29    | 32.0  | 0.444 | 42    | No    | \n",
       "|  4    |  83   | 86    | 19    | 29.3  | 0.317 | 34    | No    | \n",
       "|  0    | 101   | 64    | 17    | 21.0  | 0.252 | 21    | No    | \n",
       "|  1    |  87   | 68    | 34    | 37.6  | 0.401 | 24    | No    | \n",
       "|  9    | 164   | 84    | 21    | 30.8  | 0.831 | 32    | Yes   | \n",
       "|  1    |  99   | 58    | 10    | 25.4  | 0.551 | 21    | No    | \n",
       "|  0    | 140   | 65    | 26    | 42.6  | 0.431 | 24    | Yes   | \n",
       "|  5    | 108   | 72    | 43    | 36.1  | 0.263 | 33    | No    | \n",
       "|  2    | 110   | 74    | 29    | 32.4  | 0.698 | 27    | No    | \n",
       "| ... | ... | ... | ... | ... | ... | ... | ... | \n",
       "| 10    | 129   | 62    | 36    | 41.2  | 0.441 | 38    | Yes   | \n",
       "|  0    | 134   | 58    | 20    | 26.4  | 0.352 | 21    | No    | \n",
       "|  7    | 187   | 50    | 33    | 33.9  | 0.826 | 34    | Yes   | \n",
       "|  3    | 173   | 78    | 39    | 33.8  | 0.970 | 31    | Yes   | \n",
       "| 10    |  94   | 72    | 18    | 23.1  | 0.595 | 56    | No    | \n",
       "|  1    | 108   | 60    | 46    | 35.5  | 0.415 | 24    | No    | \n",
       "|  5    | 117   | 86    | 30    | 39.1  | 0.251 | 42    | No    | \n",
       "|  1    | 116   | 78    | 29    | 36.1  | 0.496 | 25    | No    | \n",
       "|  0    | 141   | 84    | 26    | 32.4  | 0.433 | 22    | No    | \n",
       "|  2    | 174   | 88    | 37    | 44.5  | 0.646 | 24    | Yes   | \n",
       "|  2    | 106   | 56    | 27    | 29.0  | 0.426 | 22    | No    | \n",
       "|  0    | 126   | 86    | 27    | 27.4  | 0.515 | 21    | No    | \n",
       "|  8    |  65   | 72    | 23    | 32.0  | 0.600 | 42    | No    | \n",
       "|  2    |  99   | 60    | 17    | 36.6  | 0.453 | 21    | No    | \n",
       "| 11    | 120   | 80    | 37    | 42.3  | 0.785 | 48    | Yes   | \n",
       "|  3    | 102   | 44    | 20    | 30.8  | 0.400 | 26    | No    | \n",
       "|  1    | 109   | 58    | 18    | 28.5  | 0.219 | 22    | No    | \n",
       "| 13    | 153   | 88    | 37    | 40.6  | 1.174 | 39    | No    | \n",
       "| 12    | 100   | 84    | 33    | 30.0  | 0.488 | 46    | No    | \n",
       "|  1    | 147   | 94    | 41    | 49.3  | 0.358 | 27    | Yes   | \n",
       "|  3    | 187   | 70    | 22    | 36.4  | 0.408 | 36    | Yes   | \n",
       "|  1    | 121   | 78    | 39    | 39.0  | 0.261 | 28    | No    | \n",
       "|  3    | 108   | 62    | 24    | 26.0  | 0.223 | 25    | No    | \n",
       "|  0    | 181   | 88    | 44    | 43.3  | 0.222 | 26    | Yes   | \n",
       "|  1    | 128   | 88    | 39    | 36.5  | 1.057 | 37    | Yes   | \n",
       "|  2    |  88   | 58    | 26    | 28.4  | 0.766 | 22    | No    | \n",
       "|  9    | 170   | 74    | 31    | 44.0  | 0.403 | 43    | Yes   | \n",
       "| 10    | 101   | 76    | 48    | 32.9  | 0.171 | 63    | No    | \n",
       "|  5    | 121   | 72    | 23    | 26.2  | 0.245 | 30    | No    | \n",
       "|  1    |  93   | 70    | 31    | 30.4  | 0.315 | 23    | No    | \n",
       "\n",
       "\n"
      ],
      "text/plain": [
       "    npreg glu bp  skin bmi  ped   age type\n",
       "1    5     86 68  28   30.2 0.364 24  No  \n",
       "2    7    195 70  33   25.1 0.163 55  Yes \n",
       "3    5     77 82  41   35.8 0.156 35  No  \n",
       "4    0    165 76  43   47.9 0.259 26  No  \n",
       "5    0    107 60  25   26.4 0.133 23  No  \n",
       "6    5     97 76  27   35.6 0.378 52  Yes \n",
       "7    3     83 58  31   34.3 0.336 25  No  \n",
       "8    1    193 50  16   25.9 0.655 24  No  \n",
       "9    3    142 80  15   32.4 0.200 63  No  \n",
       "10   2    128 78  37   43.3 1.224 31  Yes \n",
       "11   0    137 40  35   43.1 2.288 33  Yes \n",
       "12   9    154 78  30   30.9 0.164 45  No  \n",
       "13   1    189 60  23   30.1 0.398 59  Yes \n",
       "14  12     92 62   7   27.6 0.926 44  Yes \n",
       "15   1     86 66  52   41.3 0.917 29  No  \n",
       "16   4     99 76  15   23.2 0.223 21  No  \n",
       "17   1    109 60   8   25.4 0.947 21  No  \n",
       "18  11    143 94  33   36.6 0.254 51  Yes \n",
       "19   1    149 68  29   29.3 0.349 42  Yes \n",
       "20   0    139 62  17   22.1 0.207 21  No  \n",
       "21   2     99 70  16   20.4 0.235 27  No  \n",
       "22   1    100 66  29   32.0 0.444 42  No  \n",
       "23   4     83 86  19   29.3 0.317 34  No  \n",
       "24   0    101 64  17   21.0 0.252 21  No  \n",
       "25   1     87 68  34   37.6 0.401 24  No  \n",
       "26   9    164 84  21   30.8 0.831 32  Yes \n",
       "27   1     99 58  10   25.4 0.551 21  No  \n",
       "28   0    140 65  26   42.6 0.431 24  Yes \n",
       "29   5    108 72  43   36.1 0.263 33  No  \n",
       "30   2    110 74  29   32.4 0.698 27  No  \n",
       "... ...   ... ... ...  ...  ...   ... ... \n",
       "503 10    129 62  36   41.2 0.441 38  Yes \n",
       "504  0    134 58  20   26.4 0.352 21  No  \n",
       "505  7    187 50  33   33.9 0.826 34  Yes \n",
       "506  3    173 78  39   33.8 0.970 31  Yes \n",
       "507 10     94 72  18   23.1 0.595 56  No  \n",
       "508  1    108 60  46   35.5 0.415 24  No  \n",
       "509  5    117 86  30   39.1 0.251 42  No  \n",
       "510  1    116 78  29   36.1 0.496 25  No  \n",
       "511  0    141 84  26   32.4 0.433 22  No  \n",
       "512  2    174 88  37   44.5 0.646 24  Yes \n",
       "513  2    106 56  27   29.0 0.426 22  No  \n",
       "514  0    126 86  27   27.4 0.515 21  No  \n",
       "515  8     65 72  23   32.0 0.600 42  No  \n",
       "516  2     99 60  17   36.6 0.453 21  No  \n",
       "517 11    120 80  37   42.3 0.785 48  Yes \n",
       "518  3    102 44  20   30.8 0.400 26  No  \n",
       "519  1    109 58  18   28.5 0.219 22  No  \n",
       "520 13    153 88  37   40.6 1.174 39  No  \n",
       "521 12    100 84  33   30.0 0.488 46  No  \n",
       "522  1    147 94  41   49.3 0.358 27  Yes \n",
       "523  3    187 70  22   36.4 0.408 36  Yes \n",
       "524  1    121 78  39   39.0 0.261 28  No  \n",
       "525  3    108 62  24   26.0 0.223 25  No  \n",
       "526  0    181 88  44   43.3 0.222 26  Yes \n",
       "527  1    128 88  39   36.5 1.057 37  Yes \n",
       "528  2     88 58  26   28.4 0.766 22  No  \n",
       "529  9    170 74  31   44.0 0.403 43  Yes \n",
       "530 10    101 76  48   32.9 0.171 63  No  \n",
       "531  5    121 72  23   26.2 0.245 30  No  \n",
       "532  1     93 70  31   30.4 0.315 23  No  "
      ]
     },
     "metadata": {},
     "output_type": "display_data"
    }
   ],
   "source": [
    "pima <- rbind(Pima.tr, Pima.te)\n",
    "pima"
   ]
  },
  {
   "cell_type": "code",
   "execution_count": 7,
   "metadata": {},
   "outputs": [
    {
     "data": {
      "text/html": [
       "<table>\n",
       "<thead><tr><th scope=col>type</th><th scope=col>variable</th><th scope=col>value</th></tr></thead>\n",
       "<tbody>\n",
       "\t<tr><td>No   </td><td>npreg</td><td> 5   </td></tr>\n",
       "\t<tr><td>Yes  </td><td>npreg</td><td> 7   </td></tr>\n",
       "\t<tr><td>No   </td><td>npreg</td><td> 5   </td></tr>\n",
       "\t<tr><td>No   </td><td>npreg</td><td> 0   </td></tr>\n",
       "\t<tr><td>No   </td><td>npreg</td><td> 0   </td></tr>\n",
       "\t<tr><td>Yes  </td><td>npreg</td><td> 5   </td></tr>\n",
       "\t<tr><td>No   </td><td>npreg</td><td> 3   </td></tr>\n",
       "\t<tr><td>No   </td><td>npreg</td><td> 1   </td></tr>\n",
       "\t<tr><td>No   </td><td>npreg</td><td> 3   </td></tr>\n",
       "\t<tr><td>Yes  </td><td>npreg</td><td> 2   </td></tr>\n",
       "\t<tr><td>Yes  </td><td>npreg</td><td> 0   </td></tr>\n",
       "\t<tr><td>No   </td><td>npreg</td><td> 9   </td></tr>\n",
       "\t<tr><td>Yes  </td><td>npreg</td><td> 1   </td></tr>\n",
       "\t<tr><td>Yes  </td><td>npreg</td><td>12   </td></tr>\n",
       "\t<tr><td>No   </td><td>npreg</td><td> 1   </td></tr>\n",
       "\t<tr><td>No   </td><td>npreg</td><td> 4   </td></tr>\n",
       "\t<tr><td>No   </td><td>npreg</td><td> 1   </td></tr>\n",
       "\t<tr><td>Yes  </td><td>npreg</td><td>11   </td></tr>\n",
       "\t<tr><td>Yes  </td><td>npreg</td><td> 1   </td></tr>\n",
       "\t<tr><td>No   </td><td>npreg</td><td> 0   </td></tr>\n",
       "\t<tr><td>No   </td><td>npreg</td><td> 2   </td></tr>\n",
       "\t<tr><td>No   </td><td>npreg</td><td> 1   </td></tr>\n",
       "\t<tr><td>No   </td><td>npreg</td><td> 4   </td></tr>\n",
       "\t<tr><td>No   </td><td>npreg</td><td> 0   </td></tr>\n",
       "\t<tr><td>No   </td><td>npreg</td><td> 1   </td></tr>\n",
       "\t<tr><td>Yes  </td><td>npreg</td><td> 9   </td></tr>\n",
       "\t<tr><td>No   </td><td>npreg</td><td> 1   </td></tr>\n",
       "\t<tr><td>Yes  </td><td>npreg</td><td> 0   </td></tr>\n",
       "\t<tr><td>No   </td><td>npreg</td><td> 5   </td></tr>\n",
       "\t<tr><td>No   </td><td>npreg</td><td> 2   </td></tr>\n",
       "\t<tr><td>...</td><td>...</td><td>...</td></tr>\n",
       "\t<tr><td>Yes</td><td>age</td><td>38 </td></tr>\n",
       "\t<tr><td>No </td><td>age</td><td>21 </td></tr>\n",
       "\t<tr><td>Yes</td><td>age</td><td>34 </td></tr>\n",
       "\t<tr><td>Yes</td><td>age</td><td>31 </td></tr>\n",
       "\t<tr><td>No </td><td>age</td><td>56 </td></tr>\n",
       "\t<tr><td>No </td><td>age</td><td>24 </td></tr>\n",
       "\t<tr><td>No </td><td>age</td><td>42 </td></tr>\n",
       "\t<tr><td>No </td><td>age</td><td>25 </td></tr>\n",
       "\t<tr><td>No </td><td>age</td><td>22 </td></tr>\n",
       "\t<tr><td>Yes</td><td>age</td><td>24 </td></tr>\n",
       "\t<tr><td>No </td><td>age</td><td>22 </td></tr>\n",
       "\t<tr><td>No </td><td>age</td><td>21 </td></tr>\n",
       "\t<tr><td>No </td><td>age</td><td>42 </td></tr>\n",
       "\t<tr><td>No </td><td>age</td><td>21 </td></tr>\n",
       "\t<tr><td>Yes</td><td>age</td><td>48 </td></tr>\n",
       "\t<tr><td>No </td><td>age</td><td>26 </td></tr>\n",
       "\t<tr><td>No </td><td>age</td><td>22 </td></tr>\n",
       "\t<tr><td>No </td><td>age</td><td>39 </td></tr>\n",
       "\t<tr><td>No </td><td>age</td><td>46 </td></tr>\n",
       "\t<tr><td>Yes</td><td>age</td><td>27 </td></tr>\n",
       "\t<tr><td>Yes</td><td>age</td><td>36 </td></tr>\n",
       "\t<tr><td>No </td><td>age</td><td>28 </td></tr>\n",
       "\t<tr><td>No </td><td>age</td><td>25 </td></tr>\n",
       "\t<tr><td>Yes</td><td>age</td><td>26 </td></tr>\n",
       "\t<tr><td>Yes</td><td>age</td><td>37 </td></tr>\n",
       "\t<tr><td>No </td><td>age</td><td>22 </td></tr>\n",
       "\t<tr><td>Yes</td><td>age</td><td>43 </td></tr>\n",
       "\t<tr><td>No </td><td>age</td><td>63 </td></tr>\n",
       "\t<tr><td>No </td><td>age</td><td>30 </td></tr>\n",
       "\t<tr><td>No </td><td>age</td><td>23 </td></tr>\n",
       "</tbody>\n",
       "</table>\n"
      ],
      "text/latex": [
       "\\begin{tabular}{r|lll}\n",
       " type & variable & value\\\\\n",
       "\\hline\n",
       "\t No    & npreg &  5   \\\\\n",
       "\t Yes   & npreg &  7   \\\\\n",
       "\t No    & npreg &  5   \\\\\n",
       "\t No    & npreg &  0   \\\\\n",
       "\t No    & npreg &  0   \\\\\n",
       "\t Yes   & npreg &  5   \\\\\n",
       "\t No    & npreg &  3   \\\\\n",
       "\t No    & npreg &  1   \\\\\n",
       "\t No    & npreg &  3   \\\\\n",
       "\t Yes   & npreg &  2   \\\\\n",
       "\t Yes   & npreg &  0   \\\\\n",
       "\t No    & npreg &  9   \\\\\n",
       "\t Yes   & npreg &  1   \\\\\n",
       "\t Yes   & npreg & 12   \\\\\n",
       "\t No    & npreg &  1   \\\\\n",
       "\t No    & npreg &  4   \\\\\n",
       "\t No    & npreg &  1   \\\\\n",
       "\t Yes   & npreg & 11   \\\\\n",
       "\t Yes   & npreg &  1   \\\\\n",
       "\t No    & npreg &  0   \\\\\n",
       "\t No    & npreg &  2   \\\\\n",
       "\t No    & npreg &  1   \\\\\n",
       "\t No    & npreg &  4   \\\\\n",
       "\t No    & npreg &  0   \\\\\n",
       "\t No    & npreg &  1   \\\\\n",
       "\t Yes   & npreg &  9   \\\\\n",
       "\t No    & npreg &  1   \\\\\n",
       "\t Yes   & npreg &  0   \\\\\n",
       "\t No    & npreg &  5   \\\\\n",
       "\t No    & npreg &  2   \\\\\n",
       "\t ... & ... & ...\\\\\n",
       "\t Yes & age & 38 \\\\\n",
       "\t No  & age & 21 \\\\\n",
       "\t Yes & age & 34 \\\\\n",
       "\t Yes & age & 31 \\\\\n",
       "\t No  & age & 56 \\\\\n",
       "\t No  & age & 24 \\\\\n",
       "\t No  & age & 42 \\\\\n",
       "\t No  & age & 25 \\\\\n",
       "\t No  & age & 22 \\\\\n",
       "\t Yes & age & 24 \\\\\n",
       "\t No  & age & 22 \\\\\n",
       "\t No  & age & 21 \\\\\n",
       "\t No  & age & 42 \\\\\n",
       "\t No  & age & 21 \\\\\n",
       "\t Yes & age & 48 \\\\\n",
       "\t No  & age & 26 \\\\\n",
       "\t No  & age & 22 \\\\\n",
       "\t No  & age & 39 \\\\\n",
       "\t No  & age & 46 \\\\\n",
       "\t Yes & age & 27 \\\\\n",
       "\t Yes & age & 36 \\\\\n",
       "\t No  & age & 28 \\\\\n",
       "\t No  & age & 25 \\\\\n",
       "\t Yes & age & 26 \\\\\n",
       "\t Yes & age & 37 \\\\\n",
       "\t No  & age & 22 \\\\\n",
       "\t Yes & age & 43 \\\\\n",
       "\t No  & age & 63 \\\\\n",
       "\t No  & age & 30 \\\\\n",
       "\t No  & age & 23 \\\\\n",
       "\\end{tabular}\n"
      ],
      "text/markdown": [
       "\n",
       "type | variable | value | \n",
       "|---|---|---|---|---|---|---|---|---|---|---|---|---|---|---|---|---|---|---|---|---|---|---|---|---|---|---|---|---|---|---|---|---|---|---|---|---|---|---|---|---|---|---|---|---|---|---|---|---|---|---|---|---|---|---|---|---|---|---|---|---|\n",
       "| No    | npreg |  5    | \n",
       "| Yes   | npreg |  7    | \n",
       "| No    | npreg |  5    | \n",
       "| No    | npreg |  0    | \n",
       "| No    | npreg |  0    | \n",
       "| Yes   | npreg |  5    | \n",
       "| No    | npreg |  3    | \n",
       "| No    | npreg |  1    | \n",
       "| No    | npreg |  3    | \n",
       "| Yes   | npreg |  2    | \n",
       "| Yes   | npreg |  0    | \n",
       "| No    | npreg |  9    | \n",
       "| Yes   | npreg |  1    | \n",
       "| Yes   | npreg | 12    | \n",
       "| No    | npreg |  1    | \n",
       "| No    | npreg |  4    | \n",
       "| No    | npreg |  1    | \n",
       "| Yes   | npreg | 11    | \n",
       "| Yes   | npreg |  1    | \n",
       "| No    | npreg |  0    | \n",
       "| No    | npreg |  2    | \n",
       "| No    | npreg |  1    | \n",
       "| No    | npreg |  4    | \n",
       "| No    | npreg |  0    | \n",
       "| No    | npreg |  1    | \n",
       "| Yes   | npreg |  9    | \n",
       "| No    | npreg |  1    | \n",
       "| Yes   | npreg |  0    | \n",
       "| No    | npreg |  5    | \n",
       "| No    | npreg |  2    | \n",
       "| ... | ... | ... | \n",
       "| Yes | age | 38  | \n",
       "| No  | age | 21  | \n",
       "| Yes | age | 34  | \n",
       "| Yes | age | 31  | \n",
       "| No  | age | 56  | \n",
       "| No  | age | 24  | \n",
       "| No  | age | 42  | \n",
       "| No  | age | 25  | \n",
       "| No  | age | 22  | \n",
       "| Yes | age | 24  | \n",
       "| No  | age | 22  | \n",
       "| No  | age | 21  | \n",
       "| No  | age | 42  | \n",
       "| No  | age | 21  | \n",
       "| Yes | age | 48  | \n",
       "| No  | age | 26  | \n",
       "| No  | age | 22  | \n",
       "| No  | age | 39  | \n",
       "| No  | age | 46  | \n",
       "| Yes | age | 27  | \n",
       "| Yes | age | 36  | \n",
       "| No  | age | 28  | \n",
       "| No  | age | 25  | \n",
       "| Yes | age | 26  | \n",
       "| Yes | age | 37  | \n",
       "| No  | age | 22  | \n",
       "| Yes | age | 43  | \n",
       "| No  | age | 63  | \n",
       "| No  | age | 30  | \n",
       "| No  | age | 23  | \n",
       "\n",
       "\n"
      ],
      "text/plain": [
       "     type variable value\n",
       "1    No   npreg     5   \n",
       "2    Yes  npreg     7   \n",
       "3    No   npreg     5   \n",
       "4    No   npreg     0   \n",
       "5    No   npreg     0   \n",
       "6    Yes  npreg     5   \n",
       "7    No   npreg     3   \n",
       "8    No   npreg     1   \n",
       "9    No   npreg     3   \n",
       "10   Yes  npreg     2   \n",
       "11   Yes  npreg     0   \n",
       "12   No   npreg     9   \n",
       "13   Yes  npreg     1   \n",
       "14   Yes  npreg    12   \n",
       "15   No   npreg     1   \n",
       "16   No   npreg     4   \n",
       "17   No   npreg     1   \n",
       "18   Yes  npreg    11   \n",
       "19   Yes  npreg     1   \n",
       "20   No   npreg     0   \n",
       "21   No   npreg     2   \n",
       "22   No   npreg     1   \n",
       "23   No   npreg     4   \n",
       "24   No   npreg     0   \n",
       "25   No   npreg     1   \n",
       "26   Yes  npreg     9   \n",
       "27   No   npreg     1   \n",
       "28   Yes  npreg     0   \n",
       "29   No   npreg     5   \n",
       "30   No   npreg     2   \n",
       "...  ...  ...      ...  \n",
       "3695 Yes  age      38   \n",
       "3696 No   age      21   \n",
       "3697 Yes  age      34   \n",
       "3698 Yes  age      31   \n",
       "3699 No   age      56   \n",
       "3700 No   age      24   \n",
       "3701 No   age      42   \n",
       "3702 No   age      25   \n",
       "3703 No   age      22   \n",
       "3704 Yes  age      24   \n",
       "3705 No   age      22   \n",
       "3706 No   age      21   \n",
       "3707 No   age      42   \n",
       "3708 No   age      21   \n",
       "3709 Yes  age      48   \n",
       "3710 No   age      26   \n",
       "3711 No   age      22   \n",
       "3712 No   age      39   \n",
       "3713 No   age      46   \n",
       "3714 Yes  age      27   \n",
       "3715 Yes  age      36   \n",
       "3716 No   age      28   \n",
       "3717 No   age      25   \n",
       "3718 Yes  age      26   \n",
       "3719 Yes  age      37   \n",
       "3720 No   age      22   \n",
       "3721 Yes  age      43   \n",
       "3722 No   age      63   \n",
       "3723 No   age      30   \n",
       "3724 No   age      23   "
      ]
     },
     "metadata": {},
     "output_type": "display_data"
    }
   ],
   "source": [
    "pima.melt <- melt(pima, id.var = \"type\")\n",
    "pima.melt\n"
   ]
  },
  {
   "cell_type": "code",
   "execution_count": 8,
   "metadata": {},
   "outputs": [
    {
     "data": {},
     "metadata": {},
     "output_type": "display_data"
    },
    {
     "data": {
      "image/png": "[encoded data removed]",
      "text/plain": [
       "plot without title"
      ]
     },
     "metadata": {},
     "output_type": "display_data"
    }
   ],
   "source": [
    "ggplot(data = pima.melt, aes(x = type, y = value)) + geom_boxplot() + facet_wrap(~ variable, ncol = 2)\n"
   ]
  },
  {
   "cell_type": "code",
   "execution_count": 9,
   "metadata": {},
   "outputs": [
    {
     "name": "stdout",
     "output_type": "stream",
     "text": [
      "'data.frame':\t532 obs. of  7 variables:\n",
      " $ npreg: num  0.448 1.052 0.448 -1.062 -1.062 ...\n",
      " $ glu  : num  -1.13 2.386 -1.42 1.418 -0.453 ...\n",
      " $ bp   : num  -0.285 -0.122 0.852 0.365 -0.935 ...\n",
      " $ skin : num  -0.112 0.363 1.123 1.313 -0.397 ...\n",
      " $ bmi  : num  -0.391 -1.132 0.423 2.181 -0.943 ...\n",
      " $ ped  : num  -0.403 -0.987 -1.007 -0.708 -1.074 ...\n",
      " $ age  : num  -0.708 2.173 0.315 -0.522 -0.801 ...\n"
     ]
    }
   ],
   "source": [
    "pima.scale <- data.frame(scale(pima[, -8]))\n",
    "str(pima.scale)\n",
    "pima.scale$type <- pima$type\n",
    "pima.scale.melt <- melt(pima.scale, id.var = \"type\")\n"
   ]
  },
  {
   "cell_type": "code",
   "execution_count": 10,
   "metadata": {},
   "outputs": [
    {
     "data": {},
     "metadata": {},
     "output_type": "display_data"
    },
    {
     "data": {
      "image/png": "[encoded data removed]",
      "text/plain": [
       "plot without title"
      ]
     },
     "metadata": {},
     "output_type": "display_data"
    }
   ],
   "source": [
    "ggplot(data = pima.scale.melt, aes(x = type, y = value)) + geom_boxplot() + facet_wrap(~ variable, ncol = 2)"
   ]
  },
  {
   "cell_type": "code",
   "execution_count": 11,
   "metadata": {},
   "outputs": [
    {
     "data": {
      "text/html": [
       "<table>\n",
       "<thead><tr><th></th><th scope=col>npreg</th><th scope=col>glu</th><th scope=col>bp</th><th scope=col>skin</th><th scope=col>bmi</th><th scope=col>ped</th><th scope=col>age</th></tr></thead>\n",
       "<tbody>\n",
       "\t<tr><th scope=row>npreg</th><td>1.000000000</td><td>0.1253296  </td><td>0.204663421</td><td>0.09508511 </td><td>0.008576282</td><td>0.007435104</td><td>0.64074687 </td></tr>\n",
       "\t<tr><th scope=row>glu</th><td>0.125329647</td><td>1.0000000  </td><td>0.219177950</td><td>0.22659042 </td><td>0.247079294</td><td>0.165817411</td><td>0.27890711 </td></tr>\n",
       "\t<tr><th scope=row>bp</th><td>0.204663421</td><td>0.2191779  </td><td>1.000000000</td><td>0.22607244 </td><td>0.307356904</td><td>0.008047249</td><td>0.34693872 </td></tr>\n",
       "\t<tr><th scope=row>skin</th><td>0.095085114</td><td>0.2265904  </td><td>0.226072440</td><td>1.00000000 </td><td>0.647422386</td><td>0.118635569</td><td>0.16133614 </td></tr>\n",
       "\t<tr><th scope=row>bmi</th><td>0.008576282</td><td>0.2470793  </td><td>0.307356904</td><td>0.64742239 </td><td>1.000000000</td><td>0.151107136</td><td>0.07343826 </td></tr>\n",
       "\t<tr><th scope=row>ped</th><td>0.007435104</td><td>0.1658174  </td><td>0.008047249</td><td>0.11863557 </td><td>0.151107136</td><td>1.000000000</td><td>0.07165413 </td></tr>\n",
       "\t<tr><th scope=row>age</th><td>0.640746866</td><td>0.2789071  </td><td>0.346938723</td><td>0.16133614 </td><td>0.073438257</td><td>0.071654133</td><td>1.00000000 </td></tr>\n",
       "</tbody>\n",
       "</table>\n"
      ],
      "text/latex": [
       "\\begin{tabular}{r|lllllll}\n",
       "  & npreg & glu & bp & skin & bmi & ped & age\\\\\n",
       "\\hline\n",
       "\tnpreg & 1.000000000 & 0.1253296   & 0.204663421 & 0.09508511  & 0.008576282 & 0.007435104 & 0.64074687 \\\\\n",
       "\tglu & 0.125329647 & 1.0000000   & 0.219177950 & 0.22659042  & 0.247079294 & 0.165817411 & 0.27890711 \\\\\n",
       "\tbp & 0.204663421 & 0.2191779   & 1.000000000 & 0.22607244  & 0.307356904 & 0.008047249 & 0.34693872 \\\\\n",
       "\tskin & 0.095085114 & 0.2265904   & 0.226072440 & 1.00000000  & 0.647422386 & 0.118635569 & 0.16133614 \\\\\n",
       "\tbmi & 0.008576282 & 0.2470793   & 0.307356904 & 0.64742239  & 1.000000000 & 0.151107136 & 0.07343826 \\\\\n",
       "\tped & 0.007435104 & 0.1658174   & 0.008047249 & 0.11863557  & 0.151107136 & 1.000000000 & 0.07165413 \\\\\n",
       "\tage & 0.640746866 & 0.2789071   & 0.346938723 & 0.16133614  & 0.073438257 & 0.071654133 & 1.00000000 \\\\\n",
       "\\end{tabular}\n"
      ],
      "text/markdown": [
       "\n",
       "| <!--/--> | npreg | glu | bp | skin | bmi | ped | age | \n",
       "|---|---|---|---|---|---|---|\n",
       "| npreg | 1.000000000 | 0.1253296   | 0.204663421 | 0.09508511  | 0.008576282 | 0.007435104 | 0.64074687  | \n",
       "| glu | 0.125329647 | 1.0000000   | 0.219177950 | 0.22659042  | 0.247079294 | 0.165817411 | 0.27890711  | \n",
       "| bp | 0.204663421 | 0.2191779   | 1.000000000 | 0.22607244  | 0.307356904 | 0.008047249 | 0.34693872  | \n",
       "| skin | 0.095085114 | 0.2265904   | 0.226072440 | 1.00000000  | 0.647422386 | 0.118635569 | 0.16133614  | \n",
       "| bmi | 0.008576282 | 0.2470793   | 0.307356904 | 0.64742239  | 1.000000000 | 0.151107136 | 0.07343826  | \n",
       "| ped | 0.007435104 | 0.1658174   | 0.008047249 | 0.11863557  | 0.151107136 | 1.000000000 | 0.07165413  | \n",
       "| age | 0.640746866 | 0.2789071   | 0.346938723 | 0.16133614  | 0.073438257 | 0.071654133 | 1.00000000  | \n",
       "\n",
       "\n"
      ],
      "text/plain": [
       "      npreg       glu       bp          skin       bmi         ped        \n",
       "npreg 1.000000000 0.1253296 0.204663421 0.09508511 0.008576282 0.007435104\n",
       "glu   0.125329647 1.0000000 0.219177950 0.22659042 0.247079294 0.165817411\n",
       "bp    0.204663421 0.2191779 1.000000000 0.22607244 0.307356904 0.008047249\n",
       "skin  0.095085114 0.2265904 0.226072440 1.00000000 0.647422386 0.118635569\n",
       "bmi   0.008576282 0.2470793 0.307356904 0.64742239 1.000000000 0.151107136\n",
       "ped   0.007435104 0.1658174 0.008047249 0.11863557 0.151107136 1.000000000\n",
       "age   0.640746866 0.2789071 0.346938723 0.16133614 0.073438257 0.071654133\n",
       "      age       \n",
       "npreg 0.64074687\n",
       "glu   0.27890711\n",
       "bp    0.34693872\n",
       "skin  0.16133614\n",
       "bmi   0.07343826\n",
       "ped   0.07165413\n",
       "age   1.00000000"
      ]
     },
     "metadata": {},
     "output_type": "display_data"
    }
   ],
   "source": [
    "cor(pima.scale[-8])"
   ]
  },
  {
   "cell_type": "code",
   "execution_count": 24,
   "metadata": {},
   "outputs": [
    {
     "data": {
      "text/plain": [
       "        \n",
       "knn.test No Yes\n",
       "     No  91  27\n",
       "     Yes 12  27"
      ]
     },
     "metadata": {},
     "output_type": "display_data"
    }
   ],
   "source": [
    "table(knn.test, test$type)\n",
    "#The number of yes=57 and number of No=103.\n",
    "# ratio of yes: no = 57:103"
   ]
  },
  {
   "cell_type": "code",
   "execution_count": 12,
   "metadata": {},
   "outputs": [
    {
     "name": "stdout",
     "output_type": "stream",
     "text": [
      "'data.frame':\t375 obs. of  8 variables:\n",
      " $ npreg: num  0.448 -1.062 -1.062 0.448 -0.156 ...\n",
      " $ glu  : num  -1.42 1.418 -0.453 -0.775 -1.227 ...\n",
      " $ bp   : num  0.852 0.365 -0.935 0.365 -1.097 ...\n",
      " $ skin : num  1.123 1.313 -0.397 -0.207 0.173 ...\n",
      " $ bmi  : num  0.423 2.181 -0.943 0.394 0.205 ...\n",
      " $ ped  : num  -1.007 -0.708 -1.074 -0.363 -0.485 ...\n",
      " $ age  : num  0.315 -0.522 -0.801 1.894 -0.615 ...\n",
      " $ type : Factor w/ 2 levels \"No\",\"Yes\": 1 1 1 2 1 1 2 2 1 1 ...\n",
      "'data.frame':\t157 obs. of  8 variables:\n",
      " $ npreg: num  0.448 1.052 -0.76 -0.156 -0.458 ...\n",
      " $ glu  : num  -1.13 2.386 2.322 0.676 0.225 ...\n",
      " $ bp   : num  -0.285 -0.122 -1.747 0.69 0.528 ...\n",
      " $ skin : num  -0.112 0.363 -1.253 -1.348 0.743 ...\n",
      " $ bmi  : num  -0.391 -1.1321 -1.0159 -0.0712 1.5128 ...\n",
      " $ ped  : num  -0.403 -0.987 0.441 -0.879 2.093 ...\n",
      " $ age  : num  -0.7076 2.173 -0.7076 2.9164 -0.0571 ...\n",
      " $ type : Factor w/ 2 levels \"No\",\"Yes\": 1 2 1 1 2 2 2 1 1 1 ...\n"
     ]
    }
   ],
   "source": [
    "set.seed(7457)\n",
    "ind <- sample(2, nrow(pima.scale), replace = TRUE, prob = c(0.7, \n",
    "                                                              0.3))\n",
    "train <- pima.scale[ind == 1, ]\n",
    "test <- pima.scale[ind == 2, ]\n",
    "str(train)\n",
    "str(test)\n"
   ]
  },
  {
   "cell_type": "code",
   "execution_count": 19,
   "metadata": {},
   "outputs": [
    {
     "data": {
      "text/plain": [
       "k-Nearest Neighbors \n",
       "\n",
       "375 samples\n",
       "  7 predictor\n",
       "  2 classes: 'No', 'Yes' \n",
       "\n",
       "No pre-processing\n",
       "Resampling: Cross-Validated (10 fold) \n",
       "Summary of sample sizes: 338, 338, 337, 338, 337, 337, ... \n",
       "Resampling results across tuning parameters:\n",
       "\n",
       "  k   Accuracy   Kappa    \n",
       "   2  0.6743954  0.2213781\n",
       "   3  0.7383357  0.3817524\n",
       "   4  0.7330014  0.3771864\n",
       "   5  0.7332148  0.3617441\n",
       "   6  0.7411095  0.3822682\n",
       "   7  0.7492176  0.4050781\n",
       "   8  0.7438122  0.3743906\n",
       "   9  0.7492176  0.3968908\n",
       "  10  0.7546230  0.4130593\n",
       "  11  0.7490043  0.3913565\n",
       "  12  0.7408962  0.3770532\n",
       "  13  0.7489331  0.3931171\n",
       "  14  0.7410384  0.3741878\n",
       "  15  0.7490754  0.3933478\n",
       "  16  0.7545519  0.4024363\n",
       "  17  0.7409673  0.3643152\n",
       "  18  0.7437411  0.3768446\n",
       "  19  0.7543385  0.4002031\n",
       "  20  0.7517781  0.3952100\n",
       "\n",
       "Accuracy was used to select the optimal model using  the largest value.\n",
       "The final value used for the model was k = 10. "
      ]
     },
     "metadata": {},
     "output_type": "display_data"
    }
   ],
   "source": [
    "grid1 <- expand.grid(.k = seq(2, 20, by = 1))\n",
    "control <- trainControl(method = \"cv\")\n",
    "set.seed(7457)\n",
    "knn.train <- train(type ~ ., data = train,\n",
    "                   method = \"knn\",\n",
    "                   trControl = control,\n",
    "                   tuneGrid = grid1)\n",
    "knn.train\n",
    "knn.test <- knn(train[, -8], test[, -8], train[, 8], k = 6)\n",
    "\n"
   ]
  },
  {
   "cell_type": "code",
   "execution_count": 14,
   "metadata": {},
   "outputs": [
    {
     "data": {
      "text/plain": [
       "        \n",
       "knn.test No Yes\n",
       "     No  91  27\n",
       "     Yes 12  27"
      ]
     },
     "metadata": {},
     "output_type": "display_data"
    }
   ],
   "source": [
    "table(knn.test, test$type)\n"
   ]
  },
  {
   "cell_type": "code",
   "execution_count": 15,
   "metadata": {},
   "outputs": [
    {
     "data": {
      "text/html": [
       "0.417464945161738"
      ],
      "text/latex": [
       "0.417464945161738"
      ],
      "text/markdown": [
       "0.417464945161738"
      ],
      "text/plain": [
       "[1] 0.4174649"
      ]
     },
     "metadata": {},
     "output_type": "display_data"
    },
    {
     "data": {
      "text/html": [
       "0.532888465204957"
      ],
      "text/latex": [
       "0.532888465204957"
      ],
      "text/markdown": [
       "0.532888465204957"
      ],
      "text/plain": [
       "[1] 0.5328885"
      ]
     },
     "metadata": {},
     "output_type": "display_data"
    }
   ],
   "source": [
    "prob.agree <- (75 +32) / 147 #accuracy\n",
    "prob.chance <- ((75 + 22) / 147) * ((75 + 18) / 147)\n",
    "prob.chance\n",
    "kappa <- (prob.agree - prob.chance) / (1 - prob.chance)\n",
    "kappa\n"
   ]
  },
  {
   "cell_type": "code",
   "execution_count": 21,
   "metadata": {},
   "outputs": [
    {
     "data": {
      "text/plain": [
       "\n",
       "Call:\n",
       "train.kknn(formula = type ~ ., data = train, kmax = 25, distance = 2,     kernel = c(\"rectangular\", \"triangular\", \"epanechnikov\"))\n",
       "\n",
       "Type of response variable: nominal\n",
       "Minimal misclassification: 0.232\n",
       "Best kernel: rectangular\n",
       "Best k: 9"
      ]
     },
     "metadata": {},
     "output_type": "display_data"
    },
    {
     "data": {
      "image/png": "[encoded data removed]",
      "text/plain": [
       "plot without title"
      ]
     },
     "metadata": {},
     "output_type": "display_data"
    }
   ],
   "source": [
    "set.seed(7457)\n",
    "kknn.train <- train.kknn(type ~ ., data = train, kmax = 25, \n",
    "                           distance = 2, \n",
    "                           kernel = c(\"rectangular\", \"triangular\", \"epanechnikov\"))\n",
    "plot(kknn.train)\n",
    "kknn.train \n"
   ]
  },
  {
   "cell_type": "code",
   "execution_count": 22,
   "metadata": {},
   "outputs": [
    {
     "data": {
      "text/plain": [
       "         \n",
       "kknn.pred No Yes\n",
       "      No  94  25\n",
       "      Yes  9  29"
      ]
     },
     "metadata": {},
     "output_type": "display_data"
    }
   ],
   "source": [
    "kknn.pred <- predict(kknn.train, newdata = test)\n",
    "table(kknn.pred, test$type)\n"
   ]
  },
  {
   "cell_type": "code",
   "execution_count": 23,
   "metadata": {},
   "outputs": [
    {
     "data": {
      "text/plain": [
       "\n",
       "Parameter tuning of 'svm':\n",
       "\n",
       "- sampling method: 10-fold cross validation \n",
       "\n",
       "- best parameters:\n",
       " cost\n",
       " 0.01\n",
       "\n",
       "- best performance: 0.2188478 \n",
       "\n",
       "- Detailed performance results:\n",
       "   cost     error dispersion\n",
       "1 1e-03 0.3274538 0.07002165\n",
       "2 1e-02 0.2188478 0.04728651\n",
       "3 1e-01 0.2216927 0.07342802\n",
       "4 1e+00 0.2215505 0.06258194\n",
       "5 5e+00 0.2189189 0.06601521\n",
       "6 1e+01 0.2189189 0.06601521\n"
      ]
     },
     "metadata": {},
     "output_type": "display_data"
    }
   ],
   "source": [
    "linear.tune <- tune.svm(type ~ ., data = train,\n",
    "                        kernel = \"linear\",\n",
    "                        cost = c(0.001, 0.01, 0.1, 1, 5, 10))\n",
    "summary(linear.tune)\n"
   ]
  },
  {
   "cell_type": "code",
   "execution_count": null,
   "metadata": {
    "collapsed": true
   },
   "outputs": [],
   "source": []
  }
 ],
 "metadata": {
  "kernelspec": {
   "display_name": "R",
   "language": "R",
   "name": "r"
  },
  "language_info": {
   "codemirror_mode": "r",
   "file_extension": ".r",
   "mimetype": "text/x-r-source",
   "name": "R",
   "pygments_lexer": "r",
   "version": "3.3.0"
  }
 },
 "nbformat": 4,
 "nbformat_minor": 2
}
